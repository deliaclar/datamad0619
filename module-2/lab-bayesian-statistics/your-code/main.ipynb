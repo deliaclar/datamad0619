{
 "cells": [
  {
   "cell_type": "markdown",
   "metadata": {},
   "source": [
    "# Intro to Bayesian Statistics Lab\n",
    "\n",
    "Complete the following set of exercises to solidify your knowledge of Bayesian statistics and Bayesian data analysis."
   ]
  },
  {
   "cell_type": "code",
   "execution_count": 1,
   "metadata": {},
   "outputs": [],
   "source": [
    "import pandas as pd\n",
    "import numpy as np\n",
    "import matplotlib.pyplot as plt"
   ]
  },
  {
   "cell_type": "markdown",
   "metadata": {},
   "source": [
    "## 1. Cookie Problem\n",
    "\n",
    "Suppose we have two bowls of cookies. Bowl 1 contains 30 vanilla cookies and 10 chocolate cookies. Bowl 2 contains 20 of each. You randomly pick one cookie out of one of the bowls, and it is vanilla. Use Bayes Theorem to calculate the probability that the vanilla cookie you picked came from Bowl 1?"
   ]
  },
  {
   "cell_type": "code",
   "execution_count": 6,
   "metadata": {},
   "outputs": [
    {
     "data": {
      "text/plain": [
       "0.6"
      ]
     },
     "execution_count": 6,
     "metadata": {},
     "output_type": "execute_result"
    }
   ],
   "source": [
    "prior=1/2\n",
    "likelihood=3/4\n",
    "marg=1/2*3/4 + 1/2*1/2\n",
    "(prior*likelihood)/marg\n"
   ]
  },
  {
   "cell_type": "markdown",
   "metadata": {},
   "source": [
    "What is the probability that it came from Bowl 2?"
   ]
  },
  {
   "cell_type": "code",
   "execution_count": 7,
   "metadata": {},
   "outputs": [
    {
     "data": {
      "text/plain": [
       "0.4"
      ]
     },
     "execution_count": 7,
     "metadata": {},
     "output_type": "execute_result"
    }
   ],
   "source": [
    "likelihood2=1/2\n",
    "(prior*likelihood2)/marg"
   ]
  },
  {
   "cell_type": "markdown",
   "metadata": {},
   "source": [
    "What if the cookie you had picked was chocolate? What are the probabilities that the chocolate cookie came from Bowl 1 and Bowl 2 respectively?"
   ]
  },
  {
   "cell_type": "code",
   "execution_count": 12,
   "metadata": {},
   "outputs": [
    {
     "name": "stdout",
     "output_type": "stream",
     "text": [
      "Prob Bowl 1: 0.4444444444444444\n",
      "Prob Bowl 2: 0.6666666666666666\n"
     ]
    }
   ],
   "source": [
    "likelihood_c1=1/3\n",
    "marg_choc=1/2*1/4+1/2*1/2\n",
    "print(\"Prob Bowl 1:\",(prior*likelihood_c1)/marg_choc)\n",
    "likelihood_c2=1/2\n",
    "print(\"Prob Bowl 2:\",(prior*likelihood_c2)/marg_choc)"
   ]
  },
  {
   "cell_type": "markdown",
   "metadata": {},
   "source": [
    "## 2. Candy Problem\n",
    "\n",
    "Suppose you have two bags of candies:\n",
    "\n",
    "- In Bag 1, the mix of colors is:\n",
    "    - Brown - 30%\n",
    "    - Yellow - 20%\n",
    "    - Red - 20%\n",
    "    - Green - 10%\n",
    "    - Orange - 10%\n",
    "    - Tan - 10%\n",
    "    \n",
    "- In Bag 2, the mix of colors is:\n",
    "    - Blue - 24%\n",
    "    - Green - 20%\n",
    "    - Orange - 16%\n",
    "    - Yellow - 14%\n",
    "    - Red - 13%\n",
    "    - Brown - 13%\n",
    "    \n",
    "Not knowing which bag is which, you randomly draw one candy from each bag. One is yellow and one is green. What is the probability that the yellow one came from the Bag 1?\n",
    "\n",
    "*Hint: For the likelihoods, you will need to multiply the probabilities of drawing yellow from one bag and green from the other bag and vice versa.*"
   ]
  },
  {
   "cell_type": "code",
   "execution_count": 34,
   "metadata": {},
   "outputs": [
    {
     "data": {
      "text/plain": [
       "0.7407407407407408"
      ]
     },
     "execution_count": 34,
     "metadata": {},
     "output_type": "execute_result"
    }
   ],
   "source": [
    "# Probabilidad de haber cogido una bola de la bolsa 1\n",
    "prior=1 # Suponiendo que se sabe que se coge una bola de cada una\n",
    "\n",
    "# Probabilidad de haber cogido la bola amarilla en la bolsa 1 y la verde\n",
    "# de la bolsa 2\n",
    "likelihood_yel_b1=0.2*0.2\n",
    "# Marg= probabilidad de haber cogido de la bolsa1 el amarillo y de la bolsa2 \n",
    "# el verde + la probabilidad de haber cogido de la bolsa1 el verde y de \n",
    "# la bolsa2 el amarillo\n",
    "marg=0.2*0.2+0.14*0.1\n",
    "(prior*likelihood_yel_b1)/marg"
   ]
  },
  {
   "cell_type": "markdown",
   "metadata": {},
   "source": [
    "What is the probability that the yellow candy came from Bag 2?"
   ]
  },
  {
   "cell_type": "code",
   "execution_count": 35,
   "metadata": {},
   "outputs": [
    {
     "data": {
      "text/plain": [
       "0.25925925925925924"
      ]
     },
     "execution_count": 35,
     "metadata": {},
     "output_type": "execute_result"
    }
   ],
   "source": [
    "# Probabilidad de haber cogido la bola amarilla en la bolsa 2 y la verde\n",
    "# de la bolsa 1\n",
    "likelihood_yel_b2=0.14*0.1\n",
    "\n",
    "(prior*likelihood_yel_b2)/marg"
   ]
  },
  {
   "cell_type": "markdown",
   "metadata": {},
   "source": [
    "What are the probabilities that the green one came from Bag 1 and Bag 2 respectively?"
   ]
  },
  {
   "cell_type": "code",
   "execution_count": 39,
   "metadata": {},
   "outputs": [
    {
     "name": "stdout",
     "output_type": "stream",
     "text": [
      "Prob Green - Bowl 1:  0.25925925925925924\n",
      "Prob Green - Bowl 2:  0.7407407407407408\n"
     ]
    }
   ],
   "source": [
    "prior=1\n",
    "likelihood_green_b1=0.14*0.1\n",
    "\n",
    "likelihood_green_b2=0.2*0.2\n",
    "\n",
    "marg=0.14*0.1+0.2*0.2\n",
    "\n",
    "print(\"Prob Green - Bowl 1: \",(prior*likelihood_green_b1)/marg)\n",
    "print(\"Prob Green - Bowl 2: \",(prior*likelihood_green_b2)/marg)"
   ]
  },
  {
   "cell_type": "markdown",
   "metadata": {},
   "source": [
    "## 3. Monty Hall Problem\n",
    "\n",
    "Suppose you are a contestant on the popular game show *Let's Make a Deal*. The host of the show (Monty Hall) presents you with three doors - Door A, Door B, and Door C. He tells you that there is a sports car behind one of them and if you choose the correct one, you win the car!\n",
    "\n",
    "You select Door A, but then Monty makes things a little more interesting. He opens Door B to reveal that there is no sports car behind it and asks you if you would like to stick with your choice of Door A or switch your choice to Door C. Given this new information, what are the probabilities of you winning the car if you stick with Door A versus if you switch to Door C?"
   ]
  },
  {
   "cell_type": "code",
   "execution_count": 101,
   "metadata": {},
   "outputs": [
    {
     "name": "stdout",
     "output_type": "stream",
     "text": [
      "Probabilidad de que el coche esté en A:  0.3333333333333333\n",
      "Probabilidad de que el coche esté en C:  0.6666666666666666\n"
     ]
    }
   ],
   "source": [
    "# Probabilidad de que el coche esté en A sabiendo que no está en D\n",
    "\n",
    "# Probabilidad de que sea A\n",
    "prior_A=1/3\n",
    "likelihood=1/3\n",
    "marg=1/3\n",
    "\n",
    "print(\"Probabilidad de que el coche esté en A: \",(prior_A*likelihood)/marg)\n",
    "\n",
    "# Probabilidad de que sea C\n",
    "prior_C=1/3\n",
    "likelihood=2/3\n",
    "marg=1/3\n",
    "\n",
    "\n",
    "print(\"Probabilidad de que el coche esté en C: \",(prior_C*likelihood)/marg)\n",
    "\n"
   ]
  },
  {
   "cell_type": "markdown",
   "metadata": {},
   "source": [
    "## 4. Bayesian Analysis \n",
    "\n",
    "Suppose you work for a landscaping company, and they want to advertise their service online. They create an ad and sit back waiting for the money to roll in. On the first day, the ad sends 100 visitors to the site and 14 of them sign up for landscaping services. Create a generative model to come up with the posterior distribution and produce a visualization of what the posterior distribution would look like given the observed data."
   ]
  },
  {
   "cell_type": "code",
   "execution_count": 103,
   "metadata": {},
   "outputs": [],
   "source": [
    "n_visits= 100\n",
    "sign_up=14\n",
    "prior = pd.Series(np.random.uniform(0, 1, 100000))\n",
    "\n",
    "sim_data = list(map(lambda x: np.random.binomial(n_visits, x), prior))\n",
    "posteriors = prior[[i for i, x in enumerate(sim_data) if x == sign_up]]\n",
    "posteriors.hist();"
   ]
  },
  {
   "cell_type": "markdown",
   "metadata": {},
   "source": [
    "Produce a set of descriptive statistics for the posterior distribution."
   ]
  },
  {
   "cell_type": "code",
   "execution_count": 130,
   "metadata": {},
   "outputs": [
    {
     "data": {
      "text/plain": [
       "count    942.000000\n",
       "mean       0.145304\n",
       "std        0.034581\n",
       "min        0.048288\n",
       "25%        0.121594\n",
       "50%        0.141900\n",
       "75%        0.167099\n",
       "max        0.260365\n",
       "dtype: float64"
      ]
     },
     "execution_count": 130,
     "metadata": {},
     "output_type": "execute_result"
    }
   ],
   "source": [
    "posteriors.describe()"
   ]
  },
  {
   "cell_type": "markdown",
   "metadata": {},
   "source": [
    "What is the 90% credible interval range?"
   ]
  },
  {
   "cell_type": "code",
   "execution_count": 134,
   "metadata": {},
   "outputs": [
    {
     "name": "stdout",
     "output_type": "stream",
     "text": [
      "0.1418997600006387 0.20933641811673737\n"
     ]
    }
   ],
   "source": [
    "print(posteriors.quantile(0.5),posteriors.quantile(0.95))"
   ]
  },
  {
   "cell_type": "markdown",
   "metadata": {},
   "source": [
    "What is the Maximum Likelihood Estimate?"
   ]
  },
  {
   "cell_type": "code",
   "execution_count": 136,
   "metadata": {},
   "outputs": [
    {
     "data": {
      "text/plain": [
       "0.14"
      ]
     },
     "execution_count": 136,
     "metadata": {},
     "output_type": "execute_result"
    }
   ],
   "source": [
    " rounded.mode()[0]"
   ]
  },
  {
   "cell_type": "code",
   "execution_count": 137,
   "metadata": {},
   "outputs": [
    {
     "data": {
      "text/plain": [
       "0.13800424628450106"
      ]
     },
     "execution_count": 137,
     "metadata": {},
     "output_type": "execute_result"
    }
   ],
   "source": [
    "len(rounded[rounded == mode]) / len(rounded)"
   ]
  },
  {
   "cell_type": "code",
   "execution_count": null,
   "metadata": {},
   "outputs": [],
   "source": []
  }
 ],
 "metadata": {
  "kernelspec": {
   "display_name": "Python 3",
   "language": "python",
   "name": "python3"
  },
  "language_info": {
   "codemirror_mode": {
    "name": "ipython",
    "version": 3
   },
   "file_extension": ".py",
   "mimetype": "text/x-python",
   "name": "python",
   "nbconvert_exporter": "python",
   "pygments_lexer": "ipython3",
   "version": "3.7.3"
  }
 },
 "nbformat": 4,
 "nbformat_minor": 2
}
