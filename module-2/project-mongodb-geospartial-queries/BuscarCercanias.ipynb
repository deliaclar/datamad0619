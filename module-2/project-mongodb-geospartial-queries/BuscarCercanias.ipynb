{
 "cells": [
  {
   "cell_type": "code",
   "execution_count": 1,
   "metadata": {},
   "outputs": [],
   "source": [
    "from pymongo import MongoClient\n",
    "\n",
    "client = MongoClient('mongodb://localhost:27017/')\n",
    "db = client.companies"
   ]
  },
  {
   "cell_type": "code",
   "execution_count": 5,
   "metadata": {},
   "outputs": [],
   "source": [
    "df_schools=db.compSchools.find()"
   ]
  },
  {
   "cell_type": "code",
   "execution_count": 6,
   "metadata": {},
   "outputs": [],
   "source": [
    "import pandas as pd\n",
    "df_schools=pd.DataFrame(df_schools)"
   ]
  },
  {
   "cell_type": "code",
   "execution_count": 9,
   "metadata": {},
   "outputs": [
    {
     "data": {
      "text/plain": [
       "(27, 5)"
      ]
     },
     "execution_count": 9,
     "metadata": {},
     "output_type": "execute_result"
    }
   ],
   "source": [
    "df_schools.shape"
   ]
  },
  {
   "cell_type": "code",
   "execution_count": 16,
   "metadata": {},
   "outputs": [
    {
     "data": {
      "text/plain": [
       "(15, 5)"
      ]
     },
     "execution_count": 16,
     "metadata": {},
     "output_type": "execute_result"
    }
   ],
   "source": [
    "def findInArea(geopoint,radio_max=2200000):\n",
    "    return db.compSchools.find({\n",
    "        \"Offices\":{\n",
    "            \"$near\": {\n",
    "                \"$geometry\": geopoint,\n",
    "                \"$maxDistance\":radio_max,\n",
    "            }\n",
    "        }\n",
    "    })\n",
    "geopoint={\n",
    "    \"type\":\"Point\",\n",
    "    \"coordinates\": [-73.968285,40.785091]\n",
    "}\n",
    "df_schools=findInArea(geopoint)\n",
    "df_schools=pd.DataFrame(df_schools)\n",
    "df_schools.shape"
   ]
  },
  {
   "cell_type": "code",
   "execution_count": 17,
   "metadata": {},
   "outputs": [
    {
     "data": {
      "text/plain": [
       "(1162, 5)"
      ]
     },
     "execution_count": 17,
     "metadata": {},
     "output_type": "execute_result"
    }
   ],
   "source": [
    "def findInArea1M(geopoint,radio_max=2200000):\n",
    "    return db.comp1M.find({\n",
    "        \"Offices\":{\n",
    "            \"$near\": {\n",
    "                \"$geometry\": geopoint,\n",
    "                \"$maxDistance\":radio_max,\n",
    "            }\n",
    "        }\n",
    "    })\n",
    "df_1M=pd.DataFrame(findInArea1M(geopoint))\n",
    "df_1M.shape\n"
   ]
  },
  {
   "cell_type": "code",
   "execution_count": 18,
   "metadata": {},
   "outputs": [
    {
     "data": {
      "text/plain": [
       "(3125, 5)"
      ]
     },
     "execution_count": 18,
     "metadata": {},
     "output_type": "execute_result"
    }
   ],
   "source": [
    "def findInArea10Y(geopoint,radio_max=2200000):\n",
    "    return db.comp10Y.find({\n",
    "        \"Offices\":{\n",
    "            \"$near\": {\n",
    "                \"$geometry\": geopoint,\n",
    "                \"$maxDistance\":radio_max,\n",
    "            }\n",
    "        }\n",
    "    })\n",
    "df_10Y=pd.DataFrame(findInArea10Y(geopoint))\n",
    "df_10Y.shape"
   ]
  },
  {
   "cell_type": "code",
   "execution_count": 19,
   "metadata": {},
   "outputs": [
    {
     "data": {
      "text/plain": [
       "(3, 5)"
      ]
     },
     "execution_count": 19,
     "metadata": {},
     "output_type": "execute_result"
    }
   ],
   "source": [
    "def findInAreaDesign(geopoint,radio_max=2200000):\n",
    "    return db.compDesign.find({\n",
    "        \"Offices\":{\n",
    "            \"$near\": {\n",
    "                \"$geometry\": geopoint,\n",
    "                \"$maxDistance\":radio_max,\n",
    "            }\n",
    "        }\n",
    "    })\n",
    "df_design=pd.DataFrame(findInAreaDesign(geopoint))\n",
    "df_design.shape"
   ]
  },
  {
   "cell_type": "code",
   "execution_count": 23,
   "metadata": {},
   "outputs": [
    {
     "data": {
      "text/plain": [
       "(1117, 6)"
      ]
     },
     "execution_count": 23,
     "metadata": {},
     "output_type": "execute_result"
    }
   ],
   "source": [
    "def findInAreaAerop(geopoint,radio_max=2200000):\n",
    "    return db.aeropuertos.find({\n",
    "        \"Localizacion\":{\n",
    "            \"$near\": {\n",
    "                \"$geometry\": geopoint,\n",
    "                \"$maxDistance\":radio_max,\n",
    "            }\n",
    "        }\n",
    "    })\n",
    "df_aer=pd.DataFrame(findInAreaAerop(geopoint))\n",
    "df_aer.shape"
   ]
  },
  {
   "cell_type": "code",
   "execution_count": 28,
   "metadata": {},
   "outputs": [],
   "source": [
    "empresasMas10=list(df_10Y[\"Name\"].values)\n",
    "latMas10=list(df_10Y[\"Longitude\"].values)\n",
    "lonMas10=list(df_10Y[\"Latitude\"].values)\n"
   ]
  },
  {
   "cell_type": "code",
   "execution_count": 35,
   "metadata": {},
   "outputs": [
    {
     "data": {
      "text/html": [
       "<div>\n",
       "<style scoped>\n",
       "    .dataframe tbody tr th:only-of-type {\n",
       "        vertical-align: middle;\n",
       "    }\n",
       "\n",
       "    .dataframe tbody tr th {\n",
       "        vertical-align: top;\n",
       "    }\n",
       "\n",
       "    .dataframe thead th {\n",
       "        text-align: right;\n",
       "    }\n",
       "</style>\n",
       "<table border=\"1\" class=\"dataframe\">\n",
       "  <thead>\n",
       "    <tr style=\"text-align: right;\">\n",
       "      <th></th>\n",
       "      <th>Cantidad</th>\n",
       "      <th>Empresa</th>\n",
       "      <th>EmpresasMenosDistancia</th>\n",
       "    </tr>\n",
       "  </thead>\n",
       "  <tbody>\n",
       "    <tr>\n",
       "      <th>1</th>\n",
       "      <td>7</td>\n",
       "      <td>Refinery29</td>\n",
       "      <td>[Dadaphile, Frogmetrics, Refinery29, GEN247, V...</td>\n",
       "    </tr>\n",
       "  </tbody>\n",
       "</table>\n",
       "</div>"
      ],
      "text/plain": [
       "   Cantidad     Empresa                             EmpresasMenosDistancia\n",
       "1         7  Refinery29  [Dadaphile, Frogmetrics, Refinery29, GEN247, V..."
      ]
     },
     "execution_count": 35,
     "metadata": {},
     "output_type": "execute_result"
    }
   ],
   "source": [
    "import math\n",
    "\n",
    "def haversine(lat1, lon1, lat2, lon2):\n",
    "    rad=math.pi/180\n",
    "    dlat=lat2-lat1\n",
    "    dlon=lon2-lon1\n",
    "    R=6372.795477598\n",
    "    a=(math.sin(rad*dlat/2))**2 + math.cos(rad*lat1)*math.cos(rad*lat2)*(math.sin(rad*dlon/2))**2\n",
    "    distancia=2*R*math.asin(math.sqrt(a))\n",
    "    return distancia\n",
    "\n",
    "def calcularDistancias(x): \n",
    "    empresa=[]\n",
    "    for i in range(len(empresasMas10)):\n",
    "        dist=haversine(x[\"Longitude\"],x[\"Latitude\"],latMas10[i],lonMas10[i])\n",
    "        if dist<2: #No queremos la empresa\n",
    "            empresa.append(empresasMas10[i])\n",
    "            \n",
    "    return {\n",
    "        \"Empresa\": x[\"Name\"],\n",
    "        \"EmpresasMenosDistancia\": empresa,\n",
    "        \"Cantidad\": len(empresa)\n",
    "    }\n",
    "\n",
    "df_desCerca = df_design.apply(calcularDistancias,result_type=\"expand\",axis=1)\n",
    "df_desCerca[df_desCerca[\"Cantidad\"] == df_desCerca[\"Cantidad\"].min()]  \n",
    "    \n",
    "    "
   ]
  },
  {
   "cell_type": "code",
   "execution_count": 36,
   "metadata": {},
   "outputs": [
    {
     "name": "stdout",
     "output_type": "stream",
     "text": [
      "(1162, 3)\n"
     ]
    },
    {
     "data": {
      "text/plain": [
       "(1162, 5)"
      ]
     },
     "execution_count": 36,
     "metadata": {},
     "output_type": "execute_result"
    }
   ],
   "source": [
    "df_1MCerca=df_1M.apply(calcularDistancias,result_type=\"expand\",axis=1)\n",
    "print(df_1MCerca.shape)\n",
    "df_1M.shape"
   ]
  },
  {
   "cell_type": "code",
   "execution_count": 38,
   "metadata": {},
   "outputs": [
    {
     "data": {
      "text/plain": [
       "(54, 3)"
      ]
     },
     "execution_count": 38,
     "metadata": {},
     "output_type": "execute_result"
    }
   ],
   "source": [
    "df_1MCerca=df_1MCerca[df_1MCerca[\"Cantidad\"] == df_1MCerca[\"Cantidad\"].min()]\n",
    "df_1MCerca.shape"
   ]
  },
  {
   "cell_type": "code",
   "execution_count": 40,
   "metadata": {},
   "outputs": [],
   "source": [
    "def calcularDistanciasAe(x): \n",
    "    empresa=[]\n",
    "    for i in range(len(empresasMas10)):\n",
    "        dist=haversine(x[\"Latitude\"],x[\"Longitude\"],latMas10[i],lonMas10[i])\n",
    "        if dist<2: #No queremos la empresa\n",
    "            empresa.append(empresasMas10[i])\n",
    "            \n",
    "    return {\n",
    "        \"Empresa\": x[\"Name\"],\n",
    "        \"EmpresasMenosDistancia\": empresa,\n",
    "        \"Cantidad\": len(empresa)\n",
    "    }\n",
    "df_aeCerca=df_aer.apply(calcularDistanciasAe,result_type=\"expand\",axis=1)"
   ]
  },
  {
   "cell_type": "code",
   "execution_count": 41,
   "metadata": {},
   "outputs": [
    {
     "name": "stdout",
     "output_type": "stream",
     "text": [
      "0\n"
     ]
    },
    {
     "data": {
      "text/plain": [
       "(1087, 3)"
      ]
     },
     "execution_count": 41,
     "metadata": {},
     "output_type": "execute_result"
    }
   ],
   "source": [
    "print(df_aeCerca[\"Cantidad\"].min())\n",
    "df_aeCerca=df_aeCerca[df_aeCerca[\"Cantidad\"] == df_aeCerca[\"Cantidad\"].min()]\n",
    "df_aeCerca.shape"
   ]
  },
  {
   "cell_type": "code",
   "execution_count": 42,
   "metadata": {},
   "outputs": [],
   "source": [
    "df_sCerca=df_schools.apply(calcularDistancias,result_type=\"expand\",axis=1)\n"
   ]
  },
  {
   "cell_type": "code",
   "execution_count": 44,
   "metadata": {},
   "outputs": [
    {
     "name": "stdout",
     "output_type": "stream",
     "text": [
      "1\n"
     ]
    },
    {
     "data": {
      "text/html": [
       "<div>\n",
       "<style scoped>\n",
       "    .dataframe tbody tr th:only-of-type {\n",
       "        vertical-align: middle;\n",
       "    }\n",
       "\n",
       "    .dataframe tbody tr th {\n",
       "        vertical-align: top;\n",
       "    }\n",
       "\n",
       "    .dataframe thead th {\n",
       "        text-align: right;\n",
       "    }\n",
       "</style>\n",
       "<table border=\"1\" class=\"dataframe\">\n",
       "  <thead>\n",
       "    <tr style=\"text-align: right;\">\n",
       "      <th></th>\n",
       "      <th>Cantidad</th>\n",
       "      <th>Empresa</th>\n",
       "      <th>EmpresasMenosDistancia</th>\n",
       "    </tr>\n",
       "  </thead>\n",
       "  <tbody>\n",
       "    <tr>\n",
       "      <th>2</th>\n",
       "      <td>1</td>\n",
       "      <td>ePrep</td>\n",
       "      <td>[ePrep]</td>\n",
       "    </tr>\n",
       "    <tr>\n",
       "      <th>7</th>\n",
       "      <td>1</td>\n",
       "      <td>Tizmos</td>\n",
       "      <td>[Tizmos]</td>\n",
       "    </tr>\n",
       "    <tr>\n",
       "      <th>8</th>\n",
       "      <td>1</td>\n",
       "      <td>Skoodat</td>\n",
       "      <td>[Skoodat]</td>\n",
       "    </tr>\n",
       "    <tr>\n",
       "      <th>13</th>\n",
       "      <td>1</td>\n",
       "      <td>Edmodo</td>\n",
       "      <td>[Edmodo]</td>\n",
       "    </tr>\n",
       "  </tbody>\n",
       "</table>\n",
       "</div>"
      ],
      "text/plain": [
       "    Cantidad  Empresa EmpresasMenosDistancia\n",
       "2          1    ePrep                [ePrep]\n",
       "7          1   Tizmos               [Tizmos]\n",
       "8          1  Skoodat              [Skoodat]\n",
       "13         1   Edmodo               [Edmodo]"
      ]
     },
     "execution_count": 44,
     "metadata": {},
     "output_type": "execute_result"
    }
   ],
   "source": [
    "print(df_sCerca[\"Cantidad\"].min())\n",
    "df_sCerca=df_sCerca[df_sCerca[\"Cantidad\"] == df_sCerca[\"Cantidad\"].min()]\n",
    "df_sCerca.head()"
   ]
  },
  {
   "cell_type": "code",
   "execution_count": 60,
   "metadata": {},
   "outputs": [
    {
     "data": {
      "text/html": [
       "<div>\n",
       "<style scoped>\n",
       "    .dataframe tbody tr th:only-of-type {\n",
       "        vertical-align: middle;\n",
       "    }\n",
       "\n",
       "    .dataframe tbody tr th {\n",
       "        vertical-align: top;\n",
       "    }\n",
       "\n",
       "    .dataframe thead th {\n",
       "        text-align: right;\n",
       "    }\n",
       "</style>\n",
       "<table border=\"1\" class=\"dataframe\">\n",
       "  <thead>\n",
       "    <tr style=\"text-align: right;\">\n",
       "      <th></th>\n",
       "      <th>Latitude</th>\n",
       "      <th>Longitude</th>\n",
       "      <th>Name</th>\n",
       "      <th>Offices</th>\n",
       "    </tr>\n",
       "  </thead>\n",
       "  <tbody>\n",
       "    <tr>\n",
       "      <th>2</th>\n",
       "      <td>-74.649912</td>\n",
       "      <td>40.396817</td>\n",
       "      <td>ePrep</td>\n",
       "      <td>{'type': 'Point', 'coordinates': [-74.649912, ...</td>\n",
       "    </tr>\n",
       "    <tr>\n",
       "      <th>7</th>\n",
       "      <td>-86.877244</td>\n",
       "      <td>40.440278</td>\n",
       "      <td>Tizmos</td>\n",
       "      <td>{'type': 'Point', 'coordinates': [-86.877244, ...</td>\n",
       "    </tr>\n",
       "    <tr>\n",
       "      <th>8</th>\n",
       "      <td>-85.350930</td>\n",
       "      <td>34.970710</td>\n",
       "      <td>Skoodat</td>\n",
       "      <td>{'type': 'Point', 'coordinates': [-85.3509296,...</td>\n",
       "    </tr>\n",
       "    <tr>\n",
       "      <th>13</th>\n",
       "      <td>-88.321171</td>\n",
       "      <td>41.857915</td>\n",
       "      <td>Edmodo</td>\n",
       "      <td>{'type': 'Point', 'coordinates': [-88.321171, ...</td>\n",
       "    </tr>\n",
       "  </tbody>\n",
       "</table>\n",
       "</div>"
      ],
      "text/plain": [
       "     Latitude  Longitude     Name  \\\n",
       "2  -74.649912  40.396817    ePrep   \n",
       "7  -86.877244  40.440278   Tizmos   \n",
       "8  -85.350930  34.970710  Skoodat   \n",
       "13 -88.321171  41.857915   Edmodo   \n",
       "\n",
       "                                              Offices  \n",
       "2   {'type': 'Point', 'coordinates': [-74.649912, ...  \n",
       "7   {'type': 'Point', 'coordinates': [-86.877244, ...  \n",
       "8   {'type': 'Point', 'coordinates': [-85.3509296,...  \n",
       "13  {'type': 'Point', 'coordinates': [-88.321171, ...  "
      ]
     },
     "execution_count": 60,
     "metadata": {},
     "output_type": "execute_result"
    }
   ],
   "source": [
    "def empresasConMenosDist(x):\n",
    "    name=None\n",
    "    if x[\"Name\"] in list(df_sCerca[\"Empresa\"].values):\n",
    "        name=x[\"Name\"]\n",
    "        off=x[\"Offices\"]\n",
    "        lat=x[\"Latitude\"]\n",
    "        lon=x[\"Longitude\"]\n",
    "    else:\n",
    "        name=None\n",
    "        off=None\n",
    "        lat=None\n",
    "        lon=None\n",
    "    return {\n",
    "        \"Name\": name,\n",
    "        \"Offices\": off,\n",
    "        \"Latitude\":lat,\n",
    "        \"Longitude\":lon\n",
    "    }\n",
    "        \n",
    "df_sImp = df_schools.apply(empresasConMenosDist,result_type=\"expand\",axis=1)\n",
    "df_sImp = df_sImp.dropna(axis=0)\n",
    "\n"
   ]
  },
  {
   "cell_type": "code",
   "execution_count": 62,
   "metadata": {},
   "outputs": [],
   "source": [
    "def empresasConMenosDistAe(x):\n",
    "    name=None\n",
    "    if x[\"Name\"] in list(df_aeCerca[\"Empresa\"].values):\n",
    "        name=x[\"Name\"]\n",
    "        off=x[\"Localizacion\"]\n",
    "        lat=x[\"Latitude\"]\n",
    "        lon=x[\"Longitude\"]\n",
    "    else:\n",
    "        name=None\n",
    "        off=None\n",
    "        lat=None\n",
    "        lon=None\n",
    "    return {\n",
    "        \"Name\": name,\n",
    "        \"Offices\": off,\n",
    "        \"Latitude\":lat,\n",
    "        \"Longitude\":lon\n",
    "    }\n",
    "        \n",
    "df_aeImp = df_aer.apply(empresasConMenosDistAe,result_type=\"expand\",axis=1)\n",
    "df_aeImp = df_aeImp.dropna(axis=0)"
   ]
  },
  {
   "cell_type": "code",
   "execution_count": 63,
   "metadata": {},
   "outputs": [
    {
     "data": {
      "text/plain": [
       "(1087, 4)"
      ]
     },
     "execution_count": 63,
     "metadata": {},
     "output_type": "execute_result"
    }
   ],
   "source": [
    "df_aeImp.shape"
   ]
  },
  {
   "cell_type": "code",
   "execution_count": 64,
   "metadata": {},
   "outputs": [
    {
     "data": {
      "text/plain": [
       "(54, 4)"
      ]
     },
     "execution_count": 64,
     "metadata": {},
     "output_type": "execute_result"
    }
   ],
   "source": [
    "def empresasConMenosDist1M(x):\n",
    "    name=None\n",
    "    if x[\"Name\"] in list(df_1MCerca[\"Empresa\"].values):\n",
    "        name=x[\"Name\"]\n",
    "        off=x[\"Offices\"]\n",
    "        lat=x[\"Latitude\"]\n",
    "        lon=x[\"Longitude\"]\n",
    "    else:\n",
    "        name=None\n",
    "        off=None\n",
    "        lat=None\n",
    "        lon=None\n",
    "    return {\n",
    "        \"Name\": name,\n",
    "        \"Offices\": off,\n",
    "        \"Latitude\":lat,\n",
    "        \"Longitude\":lon\n",
    "    }\n",
    "        \n",
    "df_1MImp = df_des.apply(empresasConMenosDist1M,result_type=\"expand\",axis=1)\n",
    "df_1MImp = df_1MImp.dropna(axis=0)\n",
    "\n",
    "df_1MImp.shape"
   ]
  },
  {
   "cell_type": "code",
   "execution_count": 68,
   "metadata": {},
   "outputs": [
    {
     "data": {
      "text/html": [
       "<div>\n",
       "<style scoped>\n",
       "    .dataframe tbody tr th:only-of-type {\n",
       "        vertical-align: middle;\n",
       "    }\n",
       "\n",
       "    .dataframe tbody tr th {\n",
       "        vertical-align: top;\n",
       "    }\n",
       "\n",
       "    .dataframe thead th {\n",
       "        text-align: right;\n",
       "    }\n",
       "</style>\n",
       "<table border=\"1\" class=\"dataframe\">\n",
       "  <thead>\n",
       "    <tr style=\"text-align: right;\">\n",
       "      <th></th>\n",
       "      <th>Latitude</th>\n",
       "      <th>Longitude</th>\n",
       "      <th>Name</th>\n",
       "      <th>Offices</th>\n",
       "    </tr>\n",
       "  </thead>\n",
       "  <tbody>\n",
       "    <tr>\n",
       "      <th>1</th>\n",
       "      <td>-73.950821</td>\n",
       "      <td>40.727719</td>\n",
       "      <td>Refinery29</td>\n",
       "      <td>{'type': 'Point', 'coordinates': [-73.9508211,...</td>\n",
       "    </tr>\n",
       "  </tbody>\n",
       "</table>\n",
       "</div>"
      ],
      "text/plain": [
       "    Latitude  Longitude        Name  \\\n",
       "1 -73.950821  40.727719  Refinery29   \n",
       "\n",
       "                                             Offices  \n",
       "1  {'type': 'Point', 'coordinates': [-73.9508211,...  "
      ]
     },
     "execution_count": 68,
     "metadata": {},
     "output_type": "execute_result"
    }
   ],
   "source": [
    "def empresasConMenosDistDes(x):\n",
    "    name=None\n",
    "    if x[\"Name\"] in list(df_desCerca[\"Empresa\"].values):\n",
    "        name=x[\"Name\"]\n",
    "        off=x[\"Offices\"]\n",
    "        lat=x[\"Latitude\"]\n",
    "        lon=x[\"Longitude\"]\n",
    "    else:\n",
    "        name=None\n",
    "        off=None\n",
    "        lat=None\n",
    "        lon=None\n",
    "    return {\n",
    "        \"Name\": name,\n",
    "        \"Offices\": off,\n",
    "        \"Latitude\":lat,\n",
    "        \"Longitude\":lon\n",
    "    }\n",
    "df_desCerca=df_desCerca[df_desCerca[\"Cantidad\"] == df_desCerca[\"Cantidad\"].min()]\n",
    "df_desImp=df_design.apply(empresasConMenosDistDes,result_type=\"expand\",axis=1)\n",
    "df_desImp=df_desImp.dropna(axis=0)\n",
    "df_desImp"
   ]
  },
  {
   "cell_type": "code",
   "execution_count": 69,
   "metadata": {},
   "outputs": [],
   "source": [
    "def concatenar(x):\n",
    "    categoria=None\n",
    "    if x[\"Name\"] in list(df_desCerca[\"Empresa\"].values):\n",
    "        categoria=\"Empresa diseño\"\n",
    "        lat=x[\"Longitude\"]\n",
    "        lon=x[\"Latitude\"]\n",
    "        loc=x[\"Offices\"]\n",
    "    elif x[\"Name\"] in list(df_1MCerca[\"Empresa\"].values):\n",
    "        categoria=\"1M\"\n",
    "        lat=x[\"Longitude\"]\n",
    "        lon=x[\"Latitude\"]\n",
    "        loc=x[\"Offices\"]\n",
    "    elif x[\"Name\"] in list(df_sCerca[\"Empresa\"].values):\n",
    "        categoria=\"Colegio\"\n",
    "        lat=x[\"Longitude\"]\n",
    "        lon=x[\"Latitude\"]\n",
    "        loc=x[\"Offices\"]\n",
    "    elif x[\"Name\"] in list(df_aeCerca[\"Empresa\"].values):\n",
    "        categoria=\"Aeropuerto\"\n",
    "        lat=x[\"Latitude\"]\n",
    "        lon=x[\"Longitude\"]\n",
    "        loc=x[\"Offices\"]\n",
    "    \n",
    "    return {\n",
    "        \"Name\": x[\"Name\"],\n",
    "        \"Categoria\": categoria,\n",
    "        \"Latitude\": lat,\n",
    "        \"Longitude\":lon,\n",
    "        \"Localizacion\":loc\n",
    "        \n",
    "    }\n",
    "df_aeImp=df_aeImp.rename({\"Localizacion\":\"Offices\"})\n"
   ]
  },
  {
   "cell_type": "code",
   "execution_count": 72,
   "metadata": {},
   "outputs": [
    {
     "data": {
      "text/plain": [
       "(1146, 4)"
      ]
     },
     "execution_count": 72,
     "metadata": {},
     "output_type": "execute_result"
    }
   ],
   "source": [
    "df_Imp=pd.concat([df_aeImp,df_desImp,df_1MImp,df_sImp],axis=0)\n",
    "df_Imp.shape"
   ]
  },
  {
   "cell_type": "code",
   "execution_count": 73,
   "metadata": {},
   "outputs": [
    {
     "data": {
      "text/plain": [
       "(1146, 5)"
      ]
     },
     "execution_count": 73,
     "metadata": {},
     "output_type": "execute_result"
    }
   ],
   "source": [
    "df_final=df_Imp.apply(concatenar,result_type=\"expand\",axis=1)\n",
    "df_final.shape"
   ]
  },
  {
   "cell_type": "code",
   "execution_count": 74,
   "metadata": {},
   "outputs": [
    {
     "data": {
      "text/html": [
       "<div>\n",
       "<style scoped>\n",
       "    .dataframe tbody tr th:only-of-type {\n",
       "        vertical-align: middle;\n",
       "    }\n",
       "\n",
       "    .dataframe tbody tr th {\n",
       "        vertical-align: top;\n",
       "    }\n",
       "\n",
       "    .dataframe thead th {\n",
       "        text-align: right;\n",
       "    }\n",
       "</style>\n",
       "<table border=\"1\" class=\"dataframe\">\n",
       "  <thead>\n",
       "    <tr style=\"text-align: right;\">\n",
       "      <th></th>\n",
       "      <th>Categoria</th>\n",
       "      <th>Latitude</th>\n",
       "      <th>Localizacion</th>\n",
       "      <th>Longitude</th>\n",
       "      <th>Name</th>\n",
       "    </tr>\n",
       "  </thead>\n",
       "  <tbody>\n",
       "    <tr>\n",
       "      <th>4</th>\n",
       "      <td>Aeropuerto</td>\n",
       "      <td>40.850101</td>\n",
       "      <td>{'type': 'Point', 'coordinates': [-74.06079864...</td>\n",
       "      <td>-74.060799</td>\n",
       "      <td>Teterboro Airport</td>\n",
       "    </tr>\n",
       "    <tr>\n",
       "      <th>5</th>\n",
       "      <td>Aeropuerto</td>\n",
       "      <td>40.692501</td>\n",
       "      <td>{'type': 'Point', 'coordinates': [-74.16870117...</td>\n",
       "      <td>-74.168701</td>\n",
       "      <td>Newark Liberty International Airport</td>\n",
       "    </tr>\n",
       "    <tr>\n",
       "      <th>6</th>\n",
       "      <td>Aeropuerto</td>\n",
       "      <td>40.639801</td>\n",
       "      <td>{'type': 'Point', 'coordinates': [-73.77890015...</td>\n",
       "      <td>-73.778900</td>\n",
       "      <td>John F Kennedy International Airport</td>\n",
       "    </tr>\n",
       "    <tr>\n",
       "      <th>7</th>\n",
       "      <td>Aeropuerto</td>\n",
       "      <td>40.875198</td>\n",
       "      <td>{'type': 'Point', 'coordinates': [-74.28140258...</td>\n",
       "      <td>-74.281403</td>\n",
       "      <td>Essex County Airport</td>\n",
       "    </tr>\n",
       "    <tr>\n",
       "      <th>8</th>\n",
       "      <td>Aeropuerto</td>\n",
       "      <td>40.617401</td>\n",
       "      <td>{'type': 'Point', 'coordinates': [-74.24459838...</td>\n",
       "      <td>-74.244598</td>\n",
       "      <td>Linden Airport</td>\n",
       "    </tr>\n",
       "  </tbody>\n",
       "</table>\n",
       "</div>"
      ],
      "text/plain": [
       "    Categoria   Latitude                                       Localizacion  \\\n",
       "4  Aeropuerto  40.850101  {'type': 'Point', 'coordinates': [-74.06079864...   \n",
       "5  Aeropuerto  40.692501  {'type': 'Point', 'coordinates': [-74.16870117...   \n",
       "6  Aeropuerto  40.639801  {'type': 'Point', 'coordinates': [-73.77890015...   \n",
       "7  Aeropuerto  40.875198  {'type': 'Point', 'coordinates': [-74.28140258...   \n",
       "8  Aeropuerto  40.617401  {'type': 'Point', 'coordinates': [-74.24459838...   \n",
       "\n",
       "   Longitude                                  Name  \n",
       "4 -74.060799                     Teterboro Airport  \n",
       "5 -74.168701  Newark Liberty International Airport  \n",
       "6 -73.778900  John F Kennedy International Airport  \n",
       "7 -74.281403                  Essex County Airport  \n",
       "8 -74.244598                        Linden Airport  "
      ]
     },
     "execution_count": 74,
     "metadata": {},
     "output_type": "execute_result"
    }
   ],
   "source": [
    "df_final.head()"
   ]
  },
  {
   "cell_type": "code",
   "execution_count": 75,
   "metadata": {},
   "outputs": [],
   "source": [
    "df_final.to_json(\"Mezcla.json\",default_handler=str,orient=\"records\")"
   ]
  },
  {
   "cell_type": "code",
   "execution_count": 77,
   "metadata": {},
   "outputs": [
    {
     "data": {
      "text/plain": [
       "<[REQUEST_DENIED] Google - Geocode [empty]>"
      ]
     },
     "execution_count": 77,
     "metadata": {},
     "output_type": "execute_result"
    }
   ],
   "source": [
    "import geocoder\n",
    "loc=geocoder.google(\"Starbucks, New Jersey\")\n",
    "loc"
   ]
  },
  {
   "cell_type": "code",
   "execution_count": 81,
   "metadata": {},
   "outputs": [
    {
     "data": {
      "text/plain": [
       "{'html_attributions': [],\n",
       " 'next_page_token': 'CpQCAwEAAEg0HBzc2wczGSYkjtqYc4d6-Slleytg3m3BQhsASlYuwDeHSFep7LAkbDcxuh4O3Psp5jwMTIa0xl-ZpOmLp1_QZc-G3paXotcRxkJsTIOWGiew2caKJXEttC0GjCHsFliJQKRtFeU9ONFw1stXvICi3s5h-g7aqpv_jvaI3aZnS8P-oDteRDTnQAtCpAupii1tKHGU7FZjwoaMmDSSisXDHQZcTbbKP-JBonpuvdifsXutG-Dag5fLI5Ag1t4ZYMoUrdDH6UlmQ-ZE610mfEkWJDnC_vyKOnQm7sHqEepjNvERqsA5_TRDkyGkq7mVsfUcI0XDTJlVTSMIMsGPOWTbG4e9Dc83ZMeu8GT_F7vgEhBhdUo8Xj6aSISLB0jhu8wuGhSAsp0FcMGl8gq6yBc2PNsGIoMG_Q',\n",
       " 'results': [{'formatted_address': '1865 NJ-70, Lakewood, NJ 08701, USA',\n",
       "   'geometry': {'location': {'lat': 40.055727, 'lng': -74.16485},\n",
       "    'viewport': {'northeast': {'lat': 40.05706572989272,\n",
       "      'lng': -74.16357772010727},\n",
       "     'southwest': {'lat': 40.05436607010728, 'lng': -74.16627737989272}}},\n",
       "   'icon': 'https://maps.gstatic.com/mapfiles/place_api/icons/cafe-71.png',\n",
       "   'id': '981fd65bcdc7fabd3aaef1f560e2ff0b63a27089',\n",
       "   'name': 'Starbucks',\n",
       "   'opening_hours': {'open_now': True},\n",
       "   'photos': [{'height': 4032,\n",
       "     'html_attributions': ['<a href=\"https://maps.google.com/maps/contrib/102610971660248925652/photos\">Joey zambuto</a>'],\n",
       "     'photo_reference': 'CmRaAAAAnIraEKnk61HIK6aM01cqbwbz_F767Qv_lD_UzmpT4NiMlvENXz69lfp79fa0QwBXZlwEMjAkwOKcb2cLjgTSEvXpphRH88pvxIuSSAODZaWPutj7psRqLCfvRsSMIGmKEhCjwBBq7ACmy5NixMSjWoImGhS_mcWz54_g6PPEObGFIx3naWthSA',\n",
       "     'width': 3024}],\n",
       "   'place_id': 'ChIJh6oksASDwYkRFqvprEflqj0',\n",
       "   'plus_code': {'compound_code': '3R4P+73 Lakewood, Lakewood Township, NJ, USA',\n",
       "    'global_code': '87G73R4P+73'},\n",
       "   'price_level': 2,\n",
       "   'rating': 4.5,\n",
       "   'reference': 'ChIJh6oksASDwYkRFqvprEflqj0',\n",
       "   'types': ['cafe', 'food', 'store', 'point_of_interest', 'establishment'],\n",
       "   'user_ratings_total': 262},\n",
       "  {'formatted_address': '600 NJ-38, Cherry Hill, NJ 08002, USA',\n",
       "   'geometry': {'location': {'lat': 39.936742, 'lng': -75.045005},\n",
       "    'viewport': {'northeast': {'lat': 39.93803227989272,\n",
       "      'lng': -75.04364917010727},\n",
       "     'southwest': {'lat': 39.93533262010728, 'lng': -75.04634882989272}}},\n",
       "   'icon': 'https://maps.gstatic.com/mapfiles/place_api/icons/cafe-71.png',\n",
       "   'id': 'a8c11eecd3efa3db259dccb292d34231bbb6b8d9',\n",
       "   'name': 'Starbucks',\n",
       "   'opening_hours': {'open_now': True},\n",
       "   'photos': [{'height': 664,\n",
       "     'html_attributions': ['<a href=\"https://maps.google.com/maps/contrib/105414558691046162451/photos\">Starbucks</a>'],\n",
       "     'photo_reference': 'CmRYAAAA60_UnrBfPEpQo2477BrWyLrf_F_VEsyC4dpcDHNFcyd07wXGOVqvoIODQdj0O7dhUSAeNCgyJ9puyKoIIqb1-WOP5Q0W_sJip5RXSC6hKaPc20zwnvdYgNXE2c8GLrThEhAMAXxhfZYH52x0nbUySpJDGhQv1wo5zIKFv3j_mgpVwW8wvh_UAQ',\n",
       "     'width': 732}],\n",
       "   'place_id': 'ChIJF3gI3s7LxokRpwKyXQ5iMXQ',\n",
       "   'plus_code': {'compound_code': 'WXP3+MX Cherry Hill, New Jersey, USA',\n",
       "    'global_code': '87F6WXP3+MX'},\n",
       "   'price_level': 2,\n",
       "   'rating': 4.3,\n",
       "   'reference': 'ChIJF3gI3s7LxokRpwKyXQ5iMXQ',\n",
       "   'types': ['cafe', 'food', 'store', 'point_of_interest', 'establishment'],\n",
       "   'user_ratings_total': 244},\n",
       "  {'formatted_address': '2100 NJ-35, Oakhurst, NJ 07755, USA',\n",
       "   'geometry': {'location': {'lat': 40.264683, 'lng': -74.042442},\n",
       "    'viewport': {'northeast': {'lat': 40.26595512989272,\n",
       "      'lng': -74.04118207010728},\n",
       "     'southwest': {'lat': 40.26325547010728, 'lng': -74.04388172989272}}},\n",
       "   'icon': 'https://maps.gstatic.com/mapfiles/place_api/icons/cafe-71.png',\n",
       "   'id': 'ee714e93d2bb3c1cb95181279d200ea2819f4790',\n",
       "   'name': 'Starbucks',\n",
       "   'opening_hours': {'open_now': True},\n",
       "   'photos': [{'height': 4032,\n",
       "     'html_attributions': ['<a href=\"https://maps.google.com/maps/contrib/100600996398797005267/photos\">حسن ميلفي</a>'],\n",
       "     'photo_reference': 'CmRaAAAAKybmUHeKVIfuvYLK53yNCfBwFFe8Evllyq47kZuD3TM9Lcr-oq82FjBzKUgb0WPzindzd-PzT8DvlE2YPMehS3p3ZhButT9PL3vlrKT6P357QjlgjYb2-uxeLdoMzhEqEhAJ1VYTyb7We_9Z8x4tTpBjGhS-xtHgeiFxehZn3SeNgKLJ-r2WdQ',\n",
       "     'width': 1960}],\n",
       "   'place_id': 'ChIJK07Hj2gvwokRAxRU5dZuhFQ',\n",
       "   'plus_code': {'compound_code': '7X75+V2 Oakhurst, Ocean Township, NJ, USA',\n",
       "    'global_code': '87G77X75+V2'},\n",
       "   'price_level': 2,\n",
       "   'rating': 4.3,\n",
       "   'reference': 'ChIJK07Hj2gvwokRAxRU5dZuhFQ',\n",
       "   'types': ['cafe', 'food', 'store', 'point_of_interest', 'establishment'],\n",
       "   'user_ratings_total': 229},\n",
       "  {'formatted_address': '2325 NJ-33, Robbinsville Twp, NJ 08691, USA',\n",
       "   'geometry': {'location': {'lat': 40.219624, 'lng': -74.632385},\n",
       "    'viewport': {'northeast': {'lat': 40.22104917989272,\n",
       "      'lng': -74.63099187010728},\n",
       "     'southwest': {'lat': 40.21834952010727, 'lng': -74.63369152989273}}},\n",
       "   'icon': 'https://maps.gstatic.com/mapfiles/place_api/icons/cafe-71.png',\n",
       "   'id': '78d57c2a2c258f6acbb892c6e25eabbfb2d8d714',\n",
       "   'name': 'Starbucks',\n",
       "   'opening_hours': {'open_now': True},\n",
       "   'photos': [{'height': 3024,\n",
       "     'html_attributions': ['<a href=\"https://maps.google.com/maps/contrib/104709047466213453312/photos\">Sharad Patel</a>'],\n",
       "     'photo_reference': 'CmRaAAAAPAKB1MuMK-atrM_x632XXyx8bq_4soLCFGcN9BfUzWat0b-2lPvIbITRJN07bO69wtHKrdmZt241eWikwaO0lfqMY4fPNlzE_e_-OvrG44AFwFfV0Y1DGNWPPPUs0maLEhCtPTIUNUVLviNm8yVLHxyKGhQc19aC6DOu9FPoiAGmvqSIk6rfEg',\n",
       "     'width': 4032}],\n",
       "   'place_id': 'ChIJV8ZeY69fwYkRwC5CaS59TD4',\n",
       "   'plus_code': {'compound_code': '6999+R2 Robbinsville Twp, New Jersey, USA',\n",
       "    'global_code': '87G76999+R2'},\n",
       "   'price_level': 2,\n",
       "   'rating': 4.2,\n",
       "   'reference': 'ChIJV8ZeY69fwYkRwC5CaS59TD4',\n",
       "   'types': ['cafe', 'food', 'store', 'point_of_interest', 'establishment'],\n",
       "   'user_ratings_total': 226},\n",
       "  {'formatted_address': '300 NJ-18, East Brunswick, NJ 08816, USA',\n",
       "   'geometry': {'location': {'lat': 40.456454, 'lng': -74.400224},\n",
       "    'viewport': {'northeast': {'lat': 40.45784782989273,\n",
       "      'lng': -74.39889947010728},\n",
       "     'southwest': {'lat': 40.45514817010728, 'lng': -74.40159912989273}}},\n",
       "   'icon': 'https://maps.gstatic.com/mapfiles/place_api/icons/cafe-71.png',\n",
       "   'id': 'e3166e92b3289c67beaab33ada09f07c0479209f',\n",
       "   'name': 'Starbucks',\n",
       "   'opening_hours': {'open_now': True},\n",
       "   'photos': [{'height': 2560,\n",
       "     'html_attributions': ['<a href=\"https://maps.google.com/maps/contrib/114924459626932243485/photos\">Celene Vicente</a>'],\n",
       "     'photo_reference': 'CmRaAAAAwmCKtYiJpIobWmBjHxBRDxySqyDp-LAzU45jAcZ7eF4gii8YmiYDtRY_RlmJDu-jaU_4WP9JB0JGINRIgsPMunKDoKZXauIfVEfSDUmXGiJvn2yar_87ZEE4A0HCqLHrEhCHEB_wrYCcIasVLRZm6VeyGhTjk0_Y9cVaXb1gNZeE29HZ17RQLg',\n",
       "     'width': 1440}],\n",
       "   'place_id': 'ChIJqUB0rFTPw4kRL641B0lVreI',\n",
       "   'plus_code': {'compound_code': 'FH4X+HW East Brunswick, New Jersey, USA',\n",
       "    'global_code': '87G7FH4X+HW'},\n",
       "   'price_level': 2,\n",
       "   'rating': 4.1,\n",
       "   'reference': 'ChIJqUB0rFTPw4kRL641B0lVreI',\n",
       "   'types': ['cafe', 'food', 'store', 'point_of_interest', 'establishment'],\n",
       "   'user_ratings_total': 561},\n",
       "  {'formatted_address': '551 NJ-35, Shrewsbury, NJ 07702, USA',\n",
       "   'geometry': {'location': {'lat': 40.333133, 'lng': -74.061643},\n",
       "    'viewport': {'northeast': {'lat': 40.33443732989273,\n",
       "      'lng': -74.06032642010727},\n",
       "     'southwest': {'lat': 40.33173767010728, 'lng': -74.06302607989271}}},\n",
       "   'icon': 'https://maps.gstatic.com/mapfiles/place_api/icons/cafe-71.png',\n",
       "   'id': '9ea6c49a7218757879a2a56a4c27e8ecd9023bc9',\n",
       "   'name': 'Starbucks',\n",
       "   'opening_hours': {'open_now': True},\n",
       "   'photos': [{'height': 2448,\n",
       "     'html_attributions': ['<a href=\"https://maps.google.com/maps/contrib/104992171932619886360/photos\">Gregory Orr</a>'],\n",
       "     'photo_reference': 'CmRaAAAAzhtCiCShGYzvLkvm8m_Fxz4HPHbuPodQWvgz_XwlaFommsueVV6xC6TRPveMazuUBSBAZ_rFsCFmKqSPNP99F-C92xcvpZjGp6-6LgoRkwnAOAw_e7GBpOGIPEReZx9HEhDYQmniMLgJW_JL7ZaqIcliGhQhFYOVco8cs8E5_oF5kxE8mpD_FA',\n",
       "     'width': 3264}],\n",
       "   'place_id': 'ChIJ9VzD7iYwwokRJRvM9SDQCAA',\n",
       "   'plus_code': {'compound_code': '8WMQ+78 Shrewsbury, New Jersey, USA',\n",
       "    'global_code': '87G78WMQ+78'},\n",
       "   'price_level': 2,\n",
       "   'rating': 4.1,\n",
       "   'reference': 'ChIJ9VzD7iYwwokRJRvM9SDQCAA',\n",
       "   'types': ['cafe', 'food', 'store', 'point_of_interest', 'establishment'],\n",
       "   'user_ratings_total': 114},\n",
       "  {'formatted_address': '2011 NJ-35, Middletown, NJ 07748, USA',\n",
       "   'geometry': {'location': {'lat': 40.410739, 'lng': -74.13337899999999},\n",
       "    'viewport': {'northeast': {'lat': 40.41197342989273,\n",
       "      'lng': -74.13213137010727},\n",
       "     'southwest': {'lat': 40.40927377010728, 'lng': -74.13483102989272}}},\n",
       "   'icon': 'https://maps.gstatic.com/mapfiles/place_api/icons/cafe-71.png',\n",
       "   'id': '0610171899564987129b331fb88e3a2f25a4d372',\n",
       "   'name': 'Starbucks',\n",
       "   'opening_hours': {'open_now': True},\n",
       "   'photos': [{'height': 3024,\n",
       "     'html_attributions': ['<a href=\"https://maps.google.com/maps/contrib/102796416731743221298/photos\">Jaye Aster Broder</a>'],\n",
       "     'photo_reference': 'CmRaAAAAbv5STzpR7P3Nxl3P7wqJOPxr19rxCfDRUhjcwKA399aWbH9XeqJmKj3dQ0h8SQc1VYb48o2Blc_7dYibqV7PwQHMdWwVy6FybBBcS0c_bj30fwYvCijIL4hxl5TRB7KsEhCd8GDmz8JZzeAIXCPJ0H9VGhR6t-9iXRXOTAxbMRG6cfEI9X-i3w',\n",
       "     'width': 4032}],\n",
       "   'place_id': 'ChIJ5XSA_-0zwokRq9XzT7mFDu0',\n",
       "   'plus_code': {'compound_code': 'CV68+7J Middletown, New Jersey, USA',\n",
       "    'global_code': '87G7CV68+7J'},\n",
       "   'price_level': 2,\n",
       "   'rating': 4.2,\n",
       "   'reference': 'ChIJ5XSA_-0zwokRq9XzT7mFDu0',\n",
       "   'types': ['cafe', 'food', 'store', 'point_of_interest', 'establishment'],\n",
       "   'user_ratings_total': 236},\n",
       "  {'formatted_address': '201-211 NJ-17, Hasbrouck Heights, NJ 07604, USA',\n",
       "   'geometry': {'location': {'lat': 40.8567122, 'lng': -74.07033969999999},\n",
       "    'viewport': {'northeast': {'lat': 40.85799762989272,\n",
       "      'lng': -74.06884797010727},\n",
       "     'southwest': {'lat': 40.85529797010727, 'lng': -74.07154762989272}}},\n",
       "   'icon': 'https://maps.gstatic.com/mapfiles/place_api/icons/cafe-71.png',\n",
       "   'id': 'ce24c6345c2740ce72490a2845c816ec3d1dc994',\n",
       "   'name': 'Starbucks',\n",
       "   'opening_hours': {'open_now': True},\n",
       "   'photos': [{'height': 1792,\n",
       "     'html_attributions': ['<a href=\"https://maps.google.com/maps/contrib/110683505283271765533/photos\">David Yun</a>'],\n",
       "     'photo_reference': 'CmRaAAAAHeAnTzOG0bDwoh6qpRZO4CefMm9-hMfxLyhk3x0QrG7L3cXofTKElwAOsMWYdOfEZbZOz0u1g9SGXj32INzx7EruFxh_9rWYN825aQ-LOQIYaUyr2zfF23rckBIs6do5EhDcNXOmjLlRXEwqq0NDU59qGhShxAMIKg2Unx8mvVqHThCFeUVKlA',\n",
       "     'width': 1512}],\n",
       "   'place_id': 'ChIJR8Xa8KX5wokRvlh-uqdZT-w',\n",
       "   'plus_code': {'compound_code': 'VW4H+MV Hasbrouck Heights, New Jersey, USA',\n",
       "    'global_code': '87G7VW4H+MV'},\n",
       "   'price_level': 2,\n",
       "   'rating': 4.3,\n",
       "   'reference': 'ChIJR8Xa8KX5wokRvlh-uqdZT-w',\n",
       "   'types': ['cafe', 'food', 'store', 'point_of_interest', 'establishment'],\n",
       "   'user_ratings_total': 488},\n",
       "  {'formatted_address': '57 NJ-23, Wayne, NJ 07470, USA',\n",
       "   'geometry': {'location': {'lat': 40.88995999999999, 'lng': -74.249538},\n",
       "    'viewport': {'northeast': {'lat': 40.89126907989272,\n",
       "      'lng': -74.24823897010728},\n",
       "     'southwest': {'lat': 40.88856942010728, 'lng': -74.25093862989273}}},\n",
       "   'icon': 'https://maps.gstatic.com/mapfiles/place_api/icons/cafe-71.png',\n",
       "   'id': '22139798657eb97854157ee5bc3cbe27fe499075',\n",
       "   'name': 'Starbucks',\n",
       "   'opening_hours': {'open_now': True},\n",
       "   'photos': [{'height': 4032,\n",
       "     'html_attributions': ['<a href=\"https://maps.google.com/maps/contrib/106876676152399308606/photos\">Bartek Tomaszkowicz</a>'],\n",
       "     'photo_reference': 'CmRaAAAA7Oz2Kyp6j2myabcxD3ohVbQOh51cs4Li6NSaPPEvvGqQYXlnFMqowQZ8ZbGzXt3YYk7jvAf9BAQlkrjux907pABl1j4-8-Iz32bJ1s_cjRugh1Y3YelxRPpG596U4jErEhA9ZMST63mCIJ1_XuQqflI1GhSdOg_N8KuviMprLZT7bauRUo4E8g',\n",
       "     'width': 3024}],\n",
       "   'place_id': 'ChIJhccqlr0Bw4kRlxflWsTs1ck',\n",
       "   'plus_code': {'compound_code': 'VQQ2+X5 Wayne, New Jersey, USA',\n",
       "    'global_code': '87G7VQQ2+X5'},\n",
       "   'price_level': 2,\n",
       "   'rating': 3.7,\n",
       "   'reference': 'ChIJhccqlr0Bw4kRlxflWsTs1ck',\n",
       "   'types': ['cafe', 'food', 'store', 'point_of_interest', 'establishment'],\n",
       "   'user_ratings_total': 351},\n",
       "  {'formatted_address': '2150 Highway 35 #E-18, Sea Girt, NJ 08750, United States',\n",
       "   'geometry': {'location': {'lat': 40.138842, 'lng': -74.06133899999999},\n",
       "    'viewport': {'northeast': {'lat': 40.14021337989271,\n",
       "      'lng': -74.06004012010726},\n",
       "     'southwest': {'lat': 40.13751372010727, 'lng': -74.06273977989271}}},\n",
       "   'icon': 'https://maps.gstatic.com/mapfiles/place_api/icons/cafe-71.png',\n",
       "   'id': '74fba64ac03860ddc7676b0381c71c1b41ad3026',\n",
       "   'name': 'Starbucks',\n",
       "   'opening_hours': {'open_now': True},\n",
       "   'photos': [{'height': 5312,\n",
       "     'html_attributions': ['<a href=\"https://maps.google.com/maps/contrib/112451180069256162409/photos\">Skilld Will</a>'],\n",
       "     'photo_reference': 'CmRaAAAA8Bd845wIPLDn6aYyZPLG3Ymp0Yzo1rd08areylRqLPoZ-dt3a1zxLAdo1I0B4Y3mYDHooBcLGLAAscef6x3pCCUan-BJW6b2gbH4dv119uoJpEcIERDlqp1ag5Kq5tsNEhCodixUIjQYw61YOnUHczZiGhRD3xfkAeIPdHItEHKK1pKt4mQLWw',\n",
       "     'width': 2988}],\n",
       "   'place_id': 'ChIJvVq07rCHwYkReG1FBxxYbwQ',\n",
       "   'plus_code': {'compound_code': '4WQQ+GF Sea Girt, New Jersey, USA',\n",
       "    'global_code': '87G74WQQ+GF'},\n",
       "   'price_level': 2,\n",
       "   'rating': 4.3,\n",
       "   'reference': 'ChIJvVq07rCHwYkReG1FBxxYbwQ',\n",
       "   'types': ['cafe', 'food', 'store', 'point_of_interest', 'establishment'],\n",
       "   'user_ratings_total': 107},\n",
       "  {'formatted_address': '178 NJ-35, Eatontown, NJ 07724, USA',\n",
       "   'geometry': {'location': {'lat': 40.291597, 'lng': -74.05313699999999},\n",
       "    'viewport': {'northeast': {'lat': 40.29293312989272,\n",
       "      'lng': -74.05173892010727},\n",
       "     'southwest': {'lat': 40.29023347010727, 'lng': -74.05443857989272}}},\n",
       "   'icon': 'https://maps.gstatic.com/mapfiles/place_api/icons/cafe-71.png',\n",
       "   'id': '7efcbcadf6a75a62e070011a61034cff5e3f343d',\n",
       "   'name': 'Starbucks',\n",
       "   'opening_hours': {'open_now': True},\n",
       "   'photos': [{'height': 5312,\n",
       "     'html_attributions': ['<a href=\"https://maps.google.com/maps/contrib/105047269837540575286/photos\">Rich S</a>'],\n",
       "     'photo_reference': 'CmRaAAAAE1HVsHAs0KqdxvWE5WsKPVNc7vYhA-kXSJ4lP1In5tv8j84b3Fza0o5vpWBXbL8vJpJ4QkrbOloUh8Q5QscTNW9bYsrlxOwmZ2l0-A2D1xpTnAsOHQare_Wh5PIXOtHeEhArIGPPAmiojlnD04JZMq7uGhSWNA-nRReZv-bwJVVD98w6P8RGrQ',\n",
       "     'width': 2988}],\n",
       "   'place_id': 'ChIJZfzje58vwokRWYhPNmx4PtQ',\n",
       "   'plus_code': {'compound_code': '7WRW+JP Eatontown, New Jersey, USA',\n",
       "    'global_code': '87G77WRW+JP'},\n",
       "   'price_level': 2,\n",
       "   'rating': 4.2,\n",
       "   'reference': 'ChIJZfzje58vwokRWYhPNmx4PtQ',\n",
       "   'types': ['cafe', 'food', 'store', 'point_of_interest', 'establishment'],\n",
       "   'user_ratings_total': 242},\n",
       "  {'formatted_address': '2007 NJ-35, Wall Township, NJ 07719, USA',\n",
       "   'geometry': {'location': {'lat': 40.152527, 'lng': -74.057144},\n",
       "    'viewport': {'northeast': {'lat': 40.15382007989272,\n",
       "      'lng': -74.05597987010728},\n",
       "     'southwest': {'lat': 40.15112042010728, 'lng': -74.05867952989271}}},\n",
       "   'icon': 'https://maps.gstatic.com/mapfiles/place_api/icons/cafe-71.png',\n",
       "   'id': '0966e284337528a529091a4f69d8ff3536af3aa8',\n",
       "   'name': 'Starbucks',\n",
       "   'opening_hours': {'open_now': True},\n",
       "   'place_id': 'ChIJK2sNUpSHwYkRHa1tM1C8lcQ',\n",
       "   'plus_code': {'compound_code': '5W3V+24 Wall Township, New Jersey, USA',\n",
       "    'global_code': '87G75W3V+24'},\n",
       "   'price_level': 2,\n",
       "   'rating': 3.7,\n",
       "   'reference': 'ChIJK2sNUpSHwYkRHa1tM1C8lcQ',\n",
       "   'types': ['cafe', 'food', 'store', 'point_of_interest', 'establishment'],\n",
       "   'user_ratings_total': 15},\n",
       "  {'formatted_address': '1919 NJ-35 #101, Wall Township, NJ 07719, USA',\n",
       "   'geometry': {'location': {'lat': 40.1573571, 'lng': -74.05393149999999},\n",
       "    'viewport': {'northeast': {'lat': 40.15864662989272,\n",
       "      'lng': -74.05236207010728},\n",
       "     'southwest': {'lat': 40.15594697010728, 'lng': -74.05506172989271}}},\n",
       "   'icon': 'https://maps.gstatic.com/mapfiles/place_api/icons/cafe-71.png',\n",
       "   'id': '367892a4e70c4594f2b08abbf4987c68fb269bfe',\n",
       "   'name': 'Starbucks',\n",
       "   'opening_hours': {'open_now': True},\n",
       "   'photos': [{'height': 4048,\n",
       "     'html_attributions': ['<a href=\"https://maps.google.com/maps/contrib/113319921506272224320/photos\">Tabata Pearce</a>'],\n",
       "     'photo_reference': 'CmRaAAAAJ7QdkJej5zkeQb--8Dz6TrY1YI8WFlQGPz4lK39Sg4zNLeKYDHJVQy3qQfvfJwsJaA3T8qqfi_utTX5PursaFAv0yu9ZNhvTo2TglSnCT8UkYmWLwbxDM2LhfGdpyl0-EhCUAPoJOSU6e3bCrDdvY5uAGhRFWcU6iV46auSJvnUtWqRuhWDOgQ',\n",
       "     'width': 3036}],\n",
       "   'place_id': 'ChIJUxrGaeSHwYkRt2POvnYBk3Y',\n",
       "   'plus_code': {'compound_code': '5W4W+WC Wall Township, New Jersey, USA',\n",
       "    'global_code': '87G75W4W+WC'},\n",
       "   'price_level': 2,\n",
       "   'rating': 4.1,\n",
       "   'reference': 'ChIJUxrGaeSHwYkRt2POvnYBk3Y',\n",
       "   'types': ['cafe', 'food', 'store', 'point_of_interest', 'establishment'],\n",
       "   'user_ratings_total': 68},\n",
       "  {'formatted_address': '65 NJ-4, Paramus, NJ 07652, USA',\n",
       "   'geometry': {'location': {'lat': 40.920127, 'lng': -74.066574},\n",
       "    'viewport': {'northeast': {'lat': 40.92144487989272,\n",
       "      'lng': -74.06513647010728},\n",
       "     'southwest': {'lat': 40.91874522010728, 'lng': -74.06783612989273}}},\n",
       "   'icon': 'https://maps.gstatic.com/mapfiles/place_api/icons/cafe-71.png',\n",
       "   'id': '0c7c656db1b3085e8f2a22e83375fb82e0679dd5',\n",
       "   'name': 'Starbucks',\n",
       "   'opening_hours': {'open_now': True},\n",
       "   'photos': [{'height': 4032,\n",
       "     'html_attributions': ['<a href=\"https://maps.google.com/maps/contrib/110749256426844362770/photos\">Andrea P</a>'],\n",
       "     'photo_reference': 'CmRaAAAAhjAX1FAaq1yW6Owp_sb4_8NMJtUlm72kkLJZkunJjqtQExGTbgr1iO-d_GvWrXJ8isWJ1vQI4Q-KoREBBnhZ2HOJYOiCJBCI21nRytU8fK_KsaYEFPKrTBX7EPZ3aV7KEhAj_c62cVmfKOJf2LptNpk9GhTHfluJ9h_Nr5cnhaK_Z9SQSixCLA',\n",
       "     'width': 3024}],\n",
       "   'place_id': 'ChIJNSHcSFf6wokRSKPGGpeCErM',\n",
       "   'plus_code': {'compound_code': 'WWCM+39 Paramus, New Jersey, USA',\n",
       "    'global_code': '87G7WWCM+39'},\n",
       "   'price_level': 2,\n",
       "   'rating': 4.2,\n",
       "   'reference': 'ChIJNSHcSFf6wokRSKPGGpeCErM',\n",
       "   'types': ['cafe', 'food', 'store', 'point_of_interest', 'establishment'],\n",
       "   'user_ratings_total': 219},\n",
       "  {'formatted_address': 'MM-71.7 S, NJ Tpke, East Windsor, NJ 08512, United States',\n",
       "   'geometry': {'location': {'lat': 40.3215092, 'lng': -74.4882363},\n",
       "    'viewport': {'northeast': {'lat': 40.32285212989272,\n",
       "      'lng': -74.48674777010729},\n",
       "     'southwest': {'lat': 40.32015247010727, 'lng': -74.48944742989272}}},\n",
       "   'icon': 'https://maps.gstatic.com/mapfiles/place_api/icons/cafe-71.png',\n",
       "   'id': '8878c2449901ea40c02f6ea0b98f866f947a9247',\n",
       "   'name': 'Starbucks',\n",
       "   'opening_hours': {'open_now': True},\n",
       "   'photos': [{'height': 1080,\n",
       "     'html_attributions': ['<a href=\"https://maps.google.com/maps/contrib/109014221263483138368/photos\">Conrad Jorge</a>'],\n",
       "     'photo_reference': 'CmRaAAAAX9kd8vKQsIcGkDuCsLrMF2vIbRK0Ko2LxS8mmW3L_L9M0C_TK6WaEGoGMnnPsvSuQ5y_ja22ccMjkwpIv43a1LYrtvugGqHJwHpn5rTs2HAqJ3mOnqGFeg9Po9g2tWg2EhAVtdevah94Fc5ntJPhw5zhGhSu51AcXOJFJOuFQ4OdTykEKwHK3g',\n",
       "     'width': 1920}],\n",
       "   'place_id': 'ChIJeaLR9hzcw4kRUWinlcRT9vQ',\n",
       "   'plus_code': {'compound_code': '8GC6+JP East Windsor, New Jersey, USA',\n",
       "    'global_code': '87G78GC6+JP'},\n",
       "   'price_level': 2,\n",
       "   'rating': 3.2,\n",
       "   'reference': 'ChIJeaLR9hzcw4kRUWinlcRT9vQ',\n",
       "   'types': ['cafe', 'food', 'store', 'point_of_interest', 'establishment'],\n",
       "   'user_ratings_total': 179},\n",
       "  {'formatted_address': '370 NJ-17, Paramus, NJ 07652, USA',\n",
       "   'geometry': {'location': {'lat': 40.946158, 'lng': -74.07136600000001},\n",
       "    'viewport': {'northeast': {'lat': 40.94749907989272,\n",
       "      'lng': -74.07011167010728},\n",
       "     'southwest': {'lat': 40.94479942010727, 'lng': -74.07281132989273}}},\n",
       "   'icon': 'https://maps.gstatic.com/mapfiles/place_api/icons/cafe-71.png',\n",
       "   'id': '62d5f3b40e7574ef0494e923bdce11d52b389ea5',\n",
       "   'name': 'Starbucks',\n",
       "   'opening_hours': {'open_now': True},\n",
       "   'photos': [{'height': 664,\n",
       "     'html_attributions': ['<a href=\"https://maps.google.com/maps/contrib/116742699494364068857/photos\">Starbucks</a>'],\n",
       "     'photo_reference': 'CmRaAAAAr16fEbmqYNBssnHqYIMKTwjhnkq_oReoMqMCk2uDrRHZ-3KD3GTAUlW35qvtjXU1e3IVnnQtigtrVSAYJz4SH006-_spA2n4Rh-W-7KxfyuT2Fsnx-oTYaIFuctqvm24EhAD2HyAYIF0IxoYhulFgHwLGhQD7wmAnGuCgwwu1k7hQ8gIER8A-A',\n",
       "     'width': 732}],\n",
       "   'place_id': 'ChIJOZ7QC976wokRQH3LYQ7RRDs',\n",
       "   'plus_code': {'compound_code': 'WWWH+FF Paramus, New Jersey, USA',\n",
       "    'global_code': '87G7WWWH+FF'},\n",
       "   'price_level': 2,\n",
       "   'rating': 4.2,\n",
       "   'reference': 'ChIJOZ7QC976wokRQH3LYQ7RRDs',\n",
       "   'types': ['cafe', 'food', 'store', 'point_of_interest', 'establishment'],\n",
       "   'user_ratings_total': 239},\n",
       "  {'formatted_address': '360 NJ-3, Clifton, NJ 07014, USA',\n",
       "   'geometry': {'location': {'lat': 40.829835, 'lng': -74.136883},\n",
       "    'viewport': {'northeast': {'lat': 40.83111812989272,\n",
       "      'lng': -74.13558847010728},\n",
       "     'southwest': {'lat': 40.82841847010727, 'lng': -74.13828812989273}}},\n",
       "   'icon': 'https://maps.gstatic.com/mapfiles/place_api/icons/cafe-71.png',\n",
       "   'id': 'd0a15a4eeda2b7d1bf9816610ab544d7d45b6842',\n",
       "   'name': 'Starbucks',\n",
       "   'opening_hours': {'open_now': True},\n",
       "   'photos': [{'height': 5312,\n",
       "     'html_attributions': ['<a href=\"https://maps.google.com/maps/contrib/113883494299438461221/photos\">Elizabeth Ortiz</a>'],\n",
       "     'photo_reference': 'CmRaAAAAFOg2NeMUN5ZCxPd4KfJv_P0iBsXyg-rXQHP4dJMAsOKuqixOmVIMPe9puUfxel59lDNeM_ayxBQtUceJ7s3lY56YZxuNwjKbLvjKPtPpP1v216fK_EmqDgw4Ze-ATp6REhA-gXViHYz20MHN6_JWewWVGhQLdOvgU_q1mN-lqfpxpocsqprT_Q',\n",
       "     'width': 2988}],\n",
       "   'place_id': 'ChIJt4tYk0X_wokRaaVnKK2jqso',\n",
       "   'plus_code': {'compound_code': 'RVH7+W6 Clifton, New Jersey, USA',\n",
       "    'global_code': '87G7RVH7+W6'},\n",
       "   'price_level': 2,\n",
       "   'rating': 3.9,\n",
       "   'reference': 'ChIJt4tYk0X_wokRaaVnKK2jqso',\n",
       "   'types': ['cafe', 'food', 'store', 'point_of_interest', 'establishment'],\n",
       "   'user_ratings_total': 319},\n",
       "  {'formatted_address': '300 NJ-73 Space A, Evesham Township, NJ 08053, USA',\n",
       "   'geometry': {'location': {'lat': 39.891142, 'lng': -74.92505299999999},\n",
       "    'viewport': {'northeast': {'lat': 39.89246647989272,\n",
       "      'lng': -74.92379122010728},\n",
       "     'southwest': {'lat': 39.88976682010728, 'lng': -74.92649087989271}}},\n",
       "   'icon': 'https://maps.gstatic.com/mapfiles/place_api/icons/cafe-71.png',\n",
       "   'id': '9286f800954968a919fa5e49ccc2e2b059330696',\n",
       "   'name': 'Starbucks',\n",
       "   'opening_hours': {'open_now': True},\n",
       "   'photos': [{'height': 664,\n",
       "     'html_attributions': ['<a href=\"https://maps.google.com/maps/contrib/102732267495243709372/photos\">Starbucks</a>'],\n",
       "     'photo_reference': 'CmRaAAAA3zMkEi916Amw8zV-ips-q3JuOj5Ipdr5zdd7dprw3phOEzPWu6wQgtcMm0EAXM-jwWEYxreTGeDKmXTeLmRPmXFFjdVNlzvspFL-9Ayt48KFDi0nQYjSiW6ra95I44taEhAmFC22INdvQv_za99Wk16PGhSuYmCLwNHebPp5L8b7UBWKI4uM2w',\n",
       "     'width': 732}],\n",
       "   'place_id': 'ChIJ8TBpFIE0wYkRQTucjrpo4ck',\n",
       "   'plus_code': {'compound_code': 'V3RF+FX Evesham Township, New Jersey, USA',\n",
       "    'global_code': '87F7V3RF+FX'},\n",
       "   'price_level': 2,\n",
       "   'rating': 4.3,\n",
       "   'reference': 'ChIJ8TBpFIE0wYkRQTucjrpo4ck',\n",
       "   'types': ['cafe', 'food', 'store', 'point_of_interest', 'establishment'],\n",
       "   'user_ratings_total': 186},\n",
       "  {'formatted_address': '2301 Rt 66, Ocean Township, NJ 07712, United States',\n",
       "   'geometry': {'location': {'lat': 40.228172, 'lng': -74.044029},\n",
       "    'viewport': {'northeast': {'lat': 40.22948332989272,\n",
       "      'lng': -74.04269247010726},\n",
       "     'southwest': {'lat': 40.22678367010727, 'lng': -74.0453921298927}}},\n",
       "   'icon': 'https://maps.gstatic.com/mapfiles/place_api/icons/cafe-71.png',\n",
       "   'id': 'c6a5a7a43764c16573c3ad48b7ccf8f4b29b2257',\n",
       "   'name': 'Starbucks',\n",
       "   'opening_hours': {'open_now': True},\n",
       "   'photos': [{'height': 4128,\n",
       "     'html_attributions': ['<a href=\"https://maps.google.com/maps/contrib/109908356457588774988/photos\">Fernando Melendez</a>'],\n",
       "     'photo_reference': 'CmRaAAAA73FbiAUbgK6QeoCrvedhKUGA6sVT2PGS5Upd478Im-Hxhu5VKaZZmBrtV5M5-tDRTcpp9PXyrxOTJ62g8I2CXfuWIbTXw8snxeU8WbiCfPET8gfq6i1tUnNa_l4rdH1pEhDu8Q-tz4MomTQ-zsJ9Q2TcGhS3DdY-dh_UT9eTSMBa4OJCaNTPrg',\n",
       "     'width': 2322}],\n",
       "   'place_id': 'ChIJr2Yp1ZcowokRQK1wEYJjA0w',\n",
       "   'plus_code': {'compound_code': '6XH4+79 Ocean Township, New Jersey, USA',\n",
       "    'global_code': '87G76XH4+79'},\n",
       "   'price_level': 2,\n",
       "   'rating': 4.3,\n",
       "   'reference': 'ChIJr2Yp1ZcowokRQK1wEYJjA0w',\n",
       "   'types': ['cafe', 'food', 'store', 'point_of_interest', 'establishment'],\n",
       "   'user_ratings_total': 143},\n",
       "  {'formatted_address': '148 NJ-73, Voorhees Township, NJ 08043, USA',\n",
       "   'geometry': {'location': {'lat': 39.835068, 'lng': -74.925181},\n",
       "    'viewport': {'northeast': {'lat': 39.83642587989272,\n",
       "      'lng': -74.92390612010728},\n",
       "     'southwest': {'lat': 39.83372622010728, 'lng': -74.92660577989272}}},\n",
       "   'icon': 'https://maps.gstatic.com/mapfiles/place_api/icons/cafe-71.png',\n",
       "   'id': '289f60fbe40f74d046c8a0a7b7636bb59ef0a77e',\n",
       "   'name': 'Starbucks',\n",
       "   'opening_hours': {'open_now': True},\n",
       "   'photos': [{'height': 1920,\n",
       "     'html_attributions': ['<a href=\"https://maps.google.com/maps/contrib/105670455626901092969/photos\">John Bakuckas</a>'],\n",
       "     'photo_reference': 'CmRaAAAAB1JarQXu2zb5GTzMdvnv86E0qZkE6vPxBR4rCvnK6Yta9BD0HHpylS3X5c-y0yKirquAtV8cUKUFwr4yhZO_NKqTNkQikhUVdRl51BO9_G6tcFKaYk8CqjFnY8X2eKaXEhCKWLslEnCAkn1WTrWRtATwGhTordOzNq5n7lv5fA3dvKur4zd1jw',\n",
       "     'width': 1080}],\n",
       "   'place_id': 'ChIJ7XZxH_cywYkRSMaSB1r_c4g',\n",
       "   'plus_code': {'compound_code': 'R3PF+2W Voorhees Township, New Jersey, USA',\n",
       "    'global_code': '87F7R3PF+2W'},\n",
       "   'price_level': 2,\n",
       "   'rating': 4.3,\n",
       "   'reference': 'ChIJ7XZxH_cywYkRSMaSB1r_c4g',\n",
       "   'types': ['cafe', 'food', 'store', 'point_of_interest', 'establishment'],\n",
       "   'user_ratings_total': 100}],\n",
       " 'status': 'OK'}"
      ]
     },
     "execution_count": 81,
     "metadata": {},
     "output_type": "execute_result"
    }
   ],
   "source": [
    "import os\n",
    "from dotenv import load_dotenv\n",
    "import requests\n",
    "load_dotenv()\n",
    "BASE_URL=\"https://maps.googleapis.com/maps/api/place/textsearch/json?\"\n",
    "parameters=\"input=starbucks+new+jersey\"\n",
    "parameters2=\"&inputtype=textquery\"\n",
    "key=\"&key=\"+ os.environ[\"KEY\"]\n",
    "\n",
    "res=requests.get(BASE_URL+parameters+parameters2+key)\n",
    "res=res.json()\n",
    "#res"
   ]
  },
  {
   "cell_type": "code",
   "execution_count": 85,
   "metadata": {},
   "outputs": [],
   "source": [
    "resultados = list(res[\"results\"])"
   ]
  },
  {
   "cell_type": "code",
   "execution_count": 86,
   "metadata": {},
   "outputs": [
    {
     "data": {
      "text/html": [
       "<div>\n",
       "<style scoped>\n",
       "    .dataframe tbody tr th:only-of-type {\n",
       "        vertical-align: middle;\n",
       "    }\n",
       "\n",
       "    .dataframe tbody tr th {\n",
       "        vertical-align: top;\n",
       "    }\n",
       "\n",
       "    .dataframe thead th {\n",
       "        text-align: right;\n",
       "    }\n",
       "</style>\n",
       "<table border=\"1\" class=\"dataframe\">\n",
       "  <thead>\n",
       "    <tr style=\"text-align: right;\">\n",
       "      <th></th>\n",
       "      <th>Latitude</th>\n",
       "      <th>Longitude</th>\n",
       "    </tr>\n",
       "  </thead>\n",
       "  <tbody>\n",
       "    <tr>\n",
       "      <th>0</th>\n",
       "      <td>40.055727</td>\n",
       "      <td>-74.164850</td>\n",
       "    </tr>\n",
       "    <tr>\n",
       "      <th>1</th>\n",
       "      <td>39.936742</td>\n",
       "      <td>-75.045005</td>\n",
       "    </tr>\n",
       "    <tr>\n",
       "      <th>2</th>\n",
       "      <td>40.264683</td>\n",
       "      <td>-74.042442</td>\n",
       "    </tr>\n",
       "    <tr>\n",
       "      <th>3</th>\n",
       "      <td>40.219624</td>\n",
       "      <td>-74.632385</td>\n",
       "    </tr>\n",
       "    <tr>\n",
       "      <th>4</th>\n",
       "      <td>40.456454</td>\n",
       "      <td>-74.400224</td>\n",
       "    </tr>\n",
       "  </tbody>\n",
       "</table>\n",
       "</div>"
      ],
      "text/plain": [
       "    Latitude  Longitude\n",
       "0  40.055727 -74.164850\n",
       "1  39.936742 -75.045005\n",
       "2  40.264683 -74.042442\n",
       "3  40.219624 -74.632385\n",
       "4  40.456454 -74.400224"
      ]
     },
     "execution_count": 86,
     "metadata": {},
     "output_type": "execute_result"
    }
   ],
   "source": [
    "lat=[]\n",
    "lon=[]\n",
    "for e in resultados:\n",
    "    lat.append(e.get(\"geometry\").get(\"location\").get(\"lat\"))\n",
    "    lon.append(e.get(\"geometry\").get(\"location\").get(\"lng\"))\n",
    "d={\n",
    "    \"Latitude\": lat,\n",
    "    \"Longitude\": lon\n",
    "}\n",
    "df_st=pd.DataFrame(d)\n",
    "df_st.head()"
   ]
  },
  {
   "cell_type": "code",
   "execution_count": 87,
   "metadata": {},
   "outputs": [],
   "source": [
    "df_st.to_json(\"Starbucks.json\",default_handler=str,orient=\"records\")"
   ]
  },
  {
   "cell_type": "code",
   "execution_count": 88,
   "metadata": {},
   "outputs": [],
   "source": [
    "BASE_URL=\"https://maps.googleapis.com/maps/api/place/textsearch/json?\"\n",
    "parameters=\"input=school+new+jersey\"\n",
    "parameters2=\"&inputtype=textquery\"\n",
    "key=\"&key=\"+ os.environ[\"KEY\"]\n",
    "\n",
    "res2=requests.get(BASE_URL+parameters+parameters2+key)\n",
    "res2=res2.json()"
   ]
  },
  {
   "cell_type": "code",
   "execution_count": null,
   "metadata": {},
   "outputs": [],
   "source": []
  },
  {
   "cell_type": "code",
   "execution_count": 90,
   "metadata": {},
   "outputs": [
    {
     "data": {
      "text/html": [
       "<div>\n",
       "<style scoped>\n",
       "    .dataframe tbody tr th:only-of-type {\n",
       "        vertical-align: middle;\n",
       "    }\n",
       "\n",
       "    .dataframe tbody tr th {\n",
       "        vertical-align: top;\n",
       "    }\n",
       "\n",
       "    .dataframe thead th {\n",
       "        text-align: right;\n",
       "    }\n",
       "</style>\n",
       "<table border=\"1\" class=\"dataframe\">\n",
       "  <thead>\n",
       "    <tr style=\"text-align: right;\">\n",
       "      <th></th>\n",
       "      <th>Name</th>\n",
       "      <th>Latitude</th>\n",
       "      <th>Longitude</th>\n",
       "    </tr>\n",
       "  </thead>\n",
       "  <tbody>\n",
       "    <tr>\n",
       "      <th>0</th>\n",
       "      <td>New Jersey School Boards Association</td>\n",
       "      <td>40.225425</td>\n",
       "      <td>-74.778654</td>\n",
       "    </tr>\n",
       "    <tr>\n",
       "      <th>1</th>\n",
       "      <td>Winston Preparatory School</td>\n",
       "      <td>40.824704</td>\n",
       "      <td>-74.429523</td>\n",
       "    </tr>\n",
       "    <tr>\n",
       "      <th>2</th>\n",
       "      <td>Collegiate School</td>\n",
       "      <td>40.853135</td>\n",
       "      <td>-74.133088</td>\n",
       "    </tr>\n",
       "    <tr>\n",
       "      <th>3</th>\n",
       "      <td>New Jersey Association of Independent Schools ...</td>\n",
       "      <td>40.798687</td>\n",
       "      <td>-74.485854</td>\n",
       "    </tr>\n",
       "    <tr>\n",
       "      <th>4</th>\n",
       "      <td>The Deron School of New Jersey</td>\n",
       "      <td>40.703665</td>\n",
       "      <td>-74.278263</td>\n",
       "    </tr>\n",
       "  </tbody>\n",
       "</table>\n",
       "</div>"
      ],
      "text/plain": [
       "                                                Name   Latitude  Longitude\n",
       "0               New Jersey School Boards Association  40.225425 -74.778654\n",
       "1                         Winston Preparatory School  40.824704 -74.429523\n",
       "2                                  Collegiate School  40.853135 -74.133088\n",
       "3  New Jersey Association of Independent Schools ...  40.798687 -74.485854\n",
       "4                     The Deron School of New Jersey  40.703665 -74.278263"
      ]
     },
     "execution_count": 90,
     "metadata": {},
     "output_type": "execute_result"
    }
   ],
   "source": [
    "name_sc=[]\n",
    "lat2=[]\n",
    "lon2=[]\n",
    "for e in res2[\"results\"]:\n",
    "    name_sc.append(e.get(\"name\"))\n",
    "    lat2.append(e.get(\"geometry\").get(\"location\").get(\"lat\"))\n",
    "    lon2.append(e.get(\"geometry\").get(\"location\").get(\"lng\"))\n",
    "\n",
    "d2={\n",
    "    \"Name\": name_sc,\n",
    "    \"Latitude\": lat2,\n",
    "    \"Longitude\":lon2\n",
    "}\n",
    "df_schoolsImport=pd.DataFrame(d2)\n",
    "df_schoolsImport.head()"
   ]
  },
  {
   "cell_type": "code",
   "execution_count": 91,
   "metadata": {},
   "outputs": [
    {
     "data": {
      "text/plain": [
       "(20, 3)"
      ]
     },
     "execution_count": 91,
     "metadata": {},
     "output_type": "execute_result"
    }
   ],
   "source": [
    "df_schoolsImport.shape"
   ]
  },
  {
   "cell_type": "code",
   "execution_count": 92,
   "metadata": {},
   "outputs": [],
   "source": [
    "df_schoolsImport.to_json(\"SchoolsNJ.json\",default_handler=str,orient=\"records\")"
   ]
  },
  {
   "cell_type": "code",
   "execution_count": 93,
   "metadata": {},
   "outputs": [],
   "source": [
    "BASE_URL=\"https://maps.googleapis.com/maps/api/place/textsearch/json?\"\n",
    "parameters=\"input=vegan+restaurant+new+jersey\"\n",
    "parameters2=\"&inputtype=textquery\"\n",
    "key=\"&key=\"+ os.environ[\"KEY\"]\n",
    "\n",
    "res3=requests.get(BASE_URL+parameters+parameters2+key)\n",
    "res3=res3.json()"
   ]
  },
  {
   "cell_type": "code",
   "execution_count": null,
   "metadata": {},
   "outputs": [],
   "source": []
  },
  {
   "cell_type": "code",
   "execution_count": 95,
   "metadata": {},
   "outputs": [
    {
     "data": {
      "text/html": [
       "<div>\n",
       "<style scoped>\n",
       "    .dataframe tbody tr th:only-of-type {\n",
       "        vertical-align: middle;\n",
       "    }\n",
       "\n",
       "    .dataframe tbody tr th {\n",
       "        vertical-align: top;\n",
       "    }\n",
       "\n",
       "    .dataframe thead th {\n",
       "        text-align: right;\n",
       "    }\n",
       "</style>\n",
       "<table border=\"1\" class=\"dataframe\">\n",
       "  <thead>\n",
       "    <tr style=\"text-align: right;\">\n",
       "      <th></th>\n",
       "      <th>Name</th>\n",
       "      <th>Latitude</th>\n",
       "      <th>Longitude</th>\n",
       "    </tr>\n",
       "  </thead>\n",
       "  <tbody>\n",
       "    <tr>\n",
       "      <th>0</th>\n",
       "      <td>Killer Vegan</td>\n",
       "      <td>40.696338</td>\n",
       "      <td>-74.270283</td>\n",
       "    </tr>\n",
       "    <tr>\n",
       "      <th>1</th>\n",
       "      <td>Veganized</td>\n",
       "      <td>40.495519</td>\n",
       "      <td>-74.445155</td>\n",
       "    </tr>\n",
       "    <tr>\n",
       "      <th>2</th>\n",
       "      <td>Mundo Vegan</td>\n",
       "      <td>40.813753</td>\n",
       "      <td>-74.218367</td>\n",
       "    </tr>\n",
       "    <tr>\n",
       "      <th>3</th>\n",
       "      <td>Blueberry Cafe Juice Bar And Vegan Grille</td>\n",
       "      <td>40.749374</td>\n",
       "      <td>-74.196672</td>\n",
       "    </tr>\n",
       "    <tr>\n",
       "      <th>4</th>\n",
       "      <td>Wildflower Vegan Cafe</td>\n",
       "      <td>39.401026</td>\n",
       "      <td>-75.038465</td>\n",
       "    </tr>\n",
       "  </tbody>\n",
       "</table>\n",
       "</div>"
      ],
      "text/plain": [
       "                                        Name   Latitude  Longitude\n",
       "0                               Killer Vegan  40.696338 -74.270283\n",
       "1                                  Veganized  40.495519 -74.445155\n",
       "2                                Mundo Vegan  40.813753 -74.218367\n",
       "3  Blueberry Cafe Juice Bar And Vegan Grille  40.749374 -74.196672\n",
       "4                      Wildflower Vegan Cafe  39.401026 -75.038465"
      ]
     },
     "execution_count": 95,
     "metadata": {},
     "output_type": "execute_result"
    }
   ],
   "source": [
    "name_veg=[]\n",
    "lat3=[]\n",
    "lon3=[]\n",
    "for e in res3[\"results\"]:\n",
    "    name_veg.append(e.get(\"name\"))\n",
    "    lat3.append(e.get(\"geometry\").get(\"location\").get(\"lat\"))\n",
    "    lon3.append(e.get(\"geometry\").get(\"location\").get(\"lng\"))\n",
    "\n",
    "d3={\n",
    "    \"Name\": name_veg,\n",
    "    \"Latitude\": lat3,\n",
    "    \"Longitude\":lon3\n",
    "}\n",
    "df_VeganRestImport=pd.DataFrame(d3)\n",
    "df_VeganRestImport.head()"
   ]
  },
  {
   "cell_type": "code",
   "execution_count": 96,
   "metadata": {},
   "outputs": [],
   "source": [
    "df_VeganRestImport.to_json(\"VeganRestaurants.json\",default_handler=str,orient=\"records\")"
   ]
  },
  {
   "cell_type": "code",
   "execution_count": 97,
   "metadata": {},
   "outputs": [
    {
     "data": {
      "text/html": [
       "<div>\n",
       "<style scoped>\n",
       "    .dataframe tbody tr th:only-of-type {\n",
       "        vertical-align: middle;\n",
       "    }\n",
       "\n",
       "    .dataframe tbody tr th {\n",
       "        vertical-align: top;\n",
       "    }\n",
       "\n",
       "    .dataframe thead th {\n",
       "        text-align: right;\n",
       "    }\n",
       "</style>\n",
       "<table border=\"1\" class=\"dataframe\">\n",
       "  <thead>\n",
       "    <tr style=\"text-align: right;\">\n",
       "      <th></th>\n",
       "      <th>Categoria</th>\n",
       "      <th>Latitude</th>\n",
       "      <th>Localizacion</th>\n",
       "      <th>Longitude</th>\n",
       "      <th>Name</th>\n",
       "    </tr>\n",
       "  </thead>\n",
       "  <tbody>\n",
       "    <tr>\n",
       "      <th>4</th>\n",
       "      <td>Aeropuerto</td>\n",
       "      <td>40.850101</td>\n",
       "      <td>{'type': 'Point', 'coordinates': [-74.06079864...</td>\n",
       "      <td>-74.060799</td>\n",
       "      <td>Teterboro Airport</td>\n",
       "    </tr>\n",
       "    <tr>\n",
       "      <th>5</th>\n",
       "      <td>Aeropuerto</td>\n",
       "      <td>40.692501</td>\n",
       "      <td>{'type': 'Point', 'coordinates': [-74.16870117...</td>\n",
       "      <td>-74.168701</td>\n",
       "      <td>Newark Liberty International Airport</td>\n",
       "    </tr>\n",
       "    <tr>\n",
       "      <th>6</th>\n",
       "      <td>Aeropuerto</td>\n",
       "      <td>40.639801</td>\n",
       "      <td>{'type': 'Point', 'coordinates': [-73.77890015...</td>\n",
       "      <td>-73.778900</td>\n",
       "      <td>John F Kennedy International Airport</td>\n",
       "    </tr>\n",
       "    <tr>\n",
       "      <th>7</th>\n",
       "      <td>Aeropuerto</td>\n",
       "      <td>40.875198</td>\n",
       "      <td>{'type': 'Point', 'coordinates': [-74.28140258...</td>\n",
       "      <td>-74.281403</td>\n",
       "      <td>Essex County Airport</td>\n",
       "    </tr>\n",
       "    <tr>\n",
       "      <th>8</th>\n",
       "      <td>Aeropuerto</td>\n",
       "      <td>40.617401</td>\n",
       "      <td>{'type': 'Point', 'coordinates': [-74.24459838...</td>\n",
       "      <td>-74.244598</td>\n",
       "      <td>Linden Airport</td>\n",
       "    </tr>\n",
       "  </tbody>\n",
       "</table>\n",
       "</div>"
      ],
      "text/plain": [
       "    Categoria   Latitude                                       Localizacion  \\\n",
       "4  Aeropuerto  40.850101  {'type': 'Point', 'coordinates': [-74.06079864...   \n",
       "5  Aeropuerto  40.692501  {'type': 'Point', 'coordinates': [-74.16870117...   \n",
       "6  Aeropuerto  40.639801  {'type': 'Point', 'coordinates': [-73.77890015...   \n",
       "7  Aeropuerto  40.875198  {'type': 'Point', 'coordinates': [-74.28140258...   \n",
       "8  Aeropuerto  40.617401  {'type': 'Point', 'coordinates': [-74.24459838...   \n",
       "\n",
       "   Longitude                                  Name  \n",
       "4 -74.060799                     Teterboro Airport  \n",
       "5 -74.168701  Newark Liberty International Airport  \n",
       "6 -73.778900  John F Kennedy International Airport  \n",
       "7 -74.281403                  Essex County Airport  \n",
       "8 -74.244598                        Linden Airport  "
      ]
     },
     "execution_count": 97,
     "metadata": {},
     "output_type": "execute_result"
    }
   ],
   "source": [
    "df_final.head()"
   ]
  },
  {
   "cell_type": "code",
   "execution_count": 118,
   "metadata": {},
   "outputs": [],
   "source": [
    "df_1M1=df_final[df_final[\"Categoria\"]==\"1M\"][[\"Latitude\",\"Longitude\",\"Name\"]]"
   ]
  },
  {
   "cell_type": "code",
   "execution_count": 122,
   "metadata": {},
   "outputs": [
    {
     "data": {
      "text/html": [
       "<div>\n",
       "<style scoped>\n",
       "    .dataframe tbody tr th:only-of-type {\n",
       "        vertical-align: middle;\n",
       "    }\n",
       "\n",
       "    .dataframe tbody tr th {\n",
       "        vertical-align: top;\n",
       "    }\n",
       "\n",
       "    .dataframe thead th {\n",
       "        text-align: right;\n",
       "    }\n",
       "</style>\n",
       "<table border=\"1\" class=\"dataframe\">\n",
       "  <thead>\n",
       "    <tr style=\"text-align: right;\">\n",
       "      <th></th>\n",
       "      <th>Latitude</th>\n",
       "      <th>Longitude</th>\n",
       "      <th>Name</th>\n",
       "    </tr>\n",
       "  </thead>\n",
       "  <tbody>\n",
       "    <tr>\n",
       "      <th>274</th>\n",
       "      <td>40.829813</td>\n",
       "      <td>-74.320006</td>\n",
       "      <td>Expand Networks</td>\n",
       "    </tr>\n",
       "  </tbody>\n",
       "</table>\n",
       "</div>"
      ],
      "text/plain": [
       "      Latitude  Longitude             Name\n",
       "274  40.829813 -74.320006  Expand Networks"
      ]
     },
     "execution_count": 122,
     "metadata": {},
     "output_type": "execute_result"
    }
   ],
   "source": [
    "emp1M= df_1M1[df_1M1[\"Latitude\"]==40.829813]\n",
    "emp1M"
   ]
  },
  {
   "cell_type": "code",
   "execution_count": 135,
   "metadata": {},
   "outputs": [],
   "source": [
    "df_aerop1=df_final[df_final[\"Categoria\"]==\"Aeropuerto\"][[\"Latitude\",\"Longitude\",\"Name\"]]"
   ]
  },
  {
   "cell_type": "code",
   "execution_count": 248,
   "metadata": {},
   "outputs": [],
   "source": [
    "empaer=df_aerop1[(df_aerop1[\"Name\"]==\"Teterboro Airport\")]"
   ]
  },
  {
   "cell_type": "code",
   "execution_count": 249,
   "metadata": {},
   "outputs": [
    {
     "data": {
      "text/html": [
       "<div>\n",
       "<style scoped>\n",
       "    .dataframe tbody tr th:only-of-type {\n",
       "        vertical-align: middle;\n",
       "    }\n",
       "\n",
       "    .dataframe tbody tr th {\n",
       "        vertical-align: top;\n",
       "    }\n",
       "\n",
       "    .dataframe thead th {\n",
       "        text-align: right;\n",
       "    }\n",
       "</style>\n",
       "<table border=\"1\" class=\"dataframe\">\n",
       "  <thead>\n",
       "    <tr style=\"text-align: right;\">\n",
       "      <th></th>\n",
       "      <th>Latitude</th>\n",
       "      <th>Longitude</th>\n",
       "      <th>Name</th>\n",
       "    </tr>\n",
       "  </thead>\n",
       "  <tbody>\n",
       "    <tr>\n",
       "      <th>4</th>\n",
       "      <td>40.850101</td>\n",
       "      <td>-74.060799</td>\n",
       "      <td>Teterboro Airport</td>\n",
       "    </tr>\n",
       "  </tbody>\n",
       "</table>\n",
       "</div>"
      ],
      "text/plain": [
       "    Latitude  Longitude               Name\n",
       "4  40.850101 -74.060799  Teterboro Airport"
      ]
     },
     "execution_count": 249,
     "metadata": {},
     "output_type": "execute_result"
    }
   ],
   "source": [
    "empaer"
   ]
  },
  {
   "cell_type": "code",
   "execution_count": 250,
   "metadata": {},
   "outputs": [],
   "source": [
    "df_design1=df_final[df_final[\"Categoria\"]==\"Empresa diseño\"][[\"Latitude\",\"Longitude\",\"Name\"]]"
   ]
  },
  {
   "cell_type": "code",
   "execution_count": 251,
   "metadata": {},
   "outputs": [],
   "source": [
    "empdes=df_design1[(df_design1[\"Latitude\"]>=40.7) & (df_design1[\"Latitude\"]<40.8)]"
   ]
  },
  {
   "cell_type": "code",
   "execution_count": 252,
   "metadata": {},
   "outputs": [
    {
     "data": {
      "text/html": [
       "<div>\n",
       "<style scoped>\n",
       "    .dataframe tbody tr th:only-of-type {\n",
       "        vertical-align: middle;\n",
       "    }\n",
       "\n",
       "    .dataframe tbody tr th {\n",
       "        vertical-align: top;\n",
       "    }\n",
       "\n",
       "    .dataframe thead th {\n",
       "        text-align: right;\n",
       "    }\n",
       "</style>\n",
       "<table border=\"1\" class=\"dataframe\">\n",
       "  <thead>\n",
       "    <tr style=\"text-align: right;\">\n",
       "      <th></th>\n",
       "      <th>Latitude</th>\n",
       "      <th>Longitude</th>\n",
       "      <th>Name</th>\n",
       "    </tr>\n",
       "  </thead>\n",
       "  <tbody>\n",
       "    <tr>\n",
       "      <th>1</th>\n",
       "      <td>40.727719</td>\n",
       "      <td>-73.950821</td>\n",
       "      <td>Refinery29</td>\n",
       "    </tr>\n",
       "  </tbody>\n",
       "</table>\n",
       "</div>"
      ],
      "text/plain": [
       "    Latitude  Longitude        Name\n",
       "1  40.727719 -73.950821  Refinery29"
      ]
     },
     "execution_count": 252,
     "metadata": {},
     "output_type": "execute_result"
    }
   ],
   "source": [
    "empdes"
   ]
  },
  {
   "cell_type": "code",
   "execution_count": 253,
   "metadata": {},
   "outputs": [],
   "source": [
    "df_st[\"Name\"]=\"Starbucks\""
   ]
  },
  {
   "cell_type": "code",
   "execution_count": 254,
   "metadata": {},
   "outputs": [
    {
     "data": {
      "text/html": [
       "<div>\n",
       "<style scoped>\n",
       "    .dataframe tbody tr th:only-of-type {\n",
       "        vertical-align: middle;\n",
       "    }\n",
       "\n",
       "    .dataframe tbody tr th {\n",
       "        vertical-align: top;\n",
       "    }\n",
       "\n",
       "    .dataframe thead th {\n",
       "        text-align: right;\n",
       "    }\n",
       "</style>\n",
       "<table border=\"1\" class=\"dataframe\">\n",
       "  <thead>\n",
       "    <tr style=\"text-align: right;\">\n",
       "      <th></th>\n",
       "      <th>Latitude</th>\n",
       "      <th>Longitude</th>\n",
       "      <th>Name</th>\n",
       "    </tr>\n",
       "  </thead>\n",
       "  <tbody>\n",
       "    <tr>\n",
       "      <th>0</th>\n",
       "      <td>40.055727</td>\n",
       "      <td>-74.164850</td>\n",
       "      <td>Starbucks</td>\n",
       "    </tr>\n",
       "    <tr>\n",
       "      <th>1</th>\n",
       "      <td>39.936742</td>\n",
       "      <td>-75.045005</td>\n",
       "      <td>Starbucks</td>\n",
       "    </tr>\n",
       "    <tr>\n",
       "      <th>2</th>\n",
       "      <td>40.264683</td>\n",
       "      <td>-74.042442</td>\n",
       "      <td>Starbucks</td>\n",
       "    </tr>\n",
       "    <tr>\n",
       "      <th>3</th>\n",
       "      <td>40.219624</td>\n",
       "      <td>-74.632385</td>\n",
       "      <td>Starbucks</td>\n",
       "    </tr>\n",
       "    <tr>\n",
       "      <th>4</th>\n",
       "      <td>40.456454</td>\n",
       "      <td>-74.400224</td>\n",
       "      <td>Starbucks</td>\n",
       "    </tr>\n",
       "  </tbody>\n",
       "</table>\n",
       "</div>"
      ],
      "text/plain": [
       "    Latitude  Longitude       Name\n",
       "0  40.055727 -74.164850  Starbucks\n",
       "1  39.936742 -75.045005  Starbucks\n",
       "2  40.264683 -74.042442  Starbucks\n",
       "3  40.219624 -74.632385  Starbucks\n",
       "4  40.456454 -74.400224  Starbucks"
      ]
     },
     "execution_count": 254,
     "metadata": {},
     "output_type": "execute_result"
    }
   ],
   "source": [
    "df_st.head()"
   ]
  },
  {
   "cell_type": "code",
   "execution_count": 255,
   "metadata": {},
   "outputs": [],
   "source": [
    "empSt= df_st[(df_st[\"Latitude\"]>=40.856712) & (df_st[\"Latitude\"]<40.88)]"
   ]
  },
  {
   "cell_type": "code",
   "execution_count": 256,
   "metadata": {},
   "outputs": [
    {
     "data": {
      "text/html": [
       "<div>\n",
       "<style scoped>\n",
       "    .dataframe tbody tr th:only-of-type {\n",
       "        vertical-align: middle;\n",
       "    }\n",
       "\n",
       "    .dataframe tbody tr th {\n",
       "        vertical-align: top;\n",
       "    }\n",
       "\n",
       "    .dataframe thead th {\n",
       "        text-align: right;\n",
       "    }\n",
       "</style>\n",
       "<table border=\"1\" class=\"dataframe\">\n",
       "  <thead>\n",
       "    <tr style=\"text-align: right;\">\n",
       "      <th></th>\n",
       "      <th>Latitude</th>\n",
       "      <th>Longitude</th>\n",
       "      <th>Name</th>\n",
       "    </tr>\n",
       "  </thead>\n",
       "  <tbody>\n",
       "    <tr>\n",
       "      <th>7</th>\n",
       "      <td>40.856712</td>\n",
       "      <td>-74.07034</td>\n",
       "      <td>Starbucks</td>\n",
       "    </tr>\n",
       "  </tbody>\n",
       "</table>\n",
       "</div>"
      ],
      "text/plain": [
       "    Latitude  Longitude       Name\n",
       "7  40.856712  -74.07034  Starbucks"
      ]
     },
     "execution_count": 256,
     "metadata": {},
     "output_type": "execute_result"
    }
   ],
   "source": [
    "empSt"
   ]
  },
  {
   "cell_type": "code",
   "execution_count": 257,
   "metadata": {},
   "outputs": [],
   "source": [
    "escuela=df_schoolsImport[(df_schoolsImport[\"Latitude\"]>=40.85313)&(df_schoolsImport[\"Latitude\"]<40.86)]"
   ]
  },
  {
   "cell_type": "code",
   "execution_count": 258,
   "metadata": {},
   "outputs": [
    {
     "data": {
      "text/html": [
       "<div>\n",
       "<style scoped>\n",
       "    .dataframe tbody tr th:only-of-type {\n",
       "        vertical-align: middle;\n",
       "    }\n",
       "\n",
       "    .dataframe tbody tr th {\n",
       "        vertical-align: top;\n",
       "    }\n",
       "\n",
       "    .dataframe thead th {\n",
       "        text-align: right;\n",
       "    }\n",
       "</style>\n",
       "<table border=\"1\" class=\"dataframe\">\n",
       "  <thead>\n",
       "    <tr style=\"text-align: right;\">\n",
       "      <th></th>\n",
       "      <th>Name</th>\n",
       "      <th>Latitude</th>\n",
       "      <th>Longitude</th>\n",
       "    </tr>\n",
       "  </thead>\n",
       "  <tbody>\n",
       "    <tr>\n",
       "      <th>2</th>\n",
       "      <td>Collegiate School</td>\n",
       "      <td>40.853135</td>\n",
       "      <td>-74.133088</td>\n",
       "    </tr>\n",
       "  </tbody>\n",
       "</table>\n",
       "</div>"
      ],
      "text/plain": [
       "                Name   Latitude  Longitude\n",
       "2  Collegiate School  40.853135 -74.133088"
      ]
     },
     "execution_count": 258,
     "metadata": {},
     "output_type": "execute_result"
    }
   ],
   "source": [
    "escuela"
   ]
  },
  {
   "cell_type": "code",
   "execution_count": 259,
   "metadata": {},
   "outputs": [],
   "source": [
    "restVeg=df_VeganRestImport[(df_VeganRestImport[\"Latitude\"]>=40.878)&(df_VeganRestImport[\"Latitude\"]<40.88)]"
   ]
  },
  {
   "cell_type": "code",
   "execution_count": 260,
   "metadata": {},
   "outputs": [
    {
     "data": {
      "text/html": [
       "<div>\n",
       "<style scoped>\n",
       "    .dataframe tbody tr th:only-of-type {\n",
       "        vertical-align: middle;\n",
       "    }\n",
       "\n",
       "    .dataframe tbody tr th {\n",
       "        vertical-align: top;\n",
       "    }\n",
       "\n",
       "    .dataframe thead th {\n",
       "        text-align: right;\n",
       "    }\n",
       "</style>\n",
       "<table border=\"1\" class=\"dataframe\">\n",
       "  <thead>\n",
       "    <tr style=\"text-align: right;\">\n",
       "      <th></th>\n",
       "      <th>Name</th>\n",
       "      <th>Latitude</th>\n",
       "      <th>Longitude</th>\n",
       "    </tr>\n",
       "  </thead>\n",
       "  <tbody>\n",
       "    <tr>\n",
       "      <th>14</th>\n",
       "      <td>Nefista Vegan Kofteh / Çiğ Köfte</td>\n",
       "      <td>40.878809</td>\n",
       "      <td>-74.143419</td>\n",
       "    </tr>\n",
       "  </tbody>\n",
       "</table>\n",
       "</div>"
      ],
      "text/plain": [
       "                                Name   Latitude  Longitude\n",
       "14  Nefista Vegan Kofteh / Çiğ Köfte  40.878809 -74.143419"
      ]
     },
     "execution_count": 260,
     "metadata": {},
     "output_type": "execute_result"
    }
   ],
   "source": [
    "restVeg"
   ]
  },
  {
   "cell_type": "code",
   "execution_count": 261,
   "metadata": {},
   "outputs": [
    {
     "name": "stderr",
     "output_type": "stream",
     "text": [
      "/Library/Frameworks/Python.framework/Versions/3.6/lib/python3.6/site-packages/ipykernel_launcher.py:1: FutureWarning: Sorting because non-concatenation axis is not aligned. A future version\n",
      "of pandas will change to not sort by default.\n",
      "\n",
      "To accept the future behavior, pass 'sort=False'.\n",
      "\n",
      "To retain the current behavior and silence the warning, pass 'sort=True'.\n",
      "\n",
      "  \"\"\"Entry point for launching an IPython kernel.\n"
     ]
    }
   ],
   "source": [
    "df_FINAL=pd.concat([empSt,restVeg,escuela,empdes,empaer,emp1M])"
   ]
  },
  {
   "cell_type": "code",
   "execution_count": 262,
   "metadata": {},
   "outputs": [
    {
     "data": {
      "text/html": [
       "<div>\n",
       "<style scoped>\n",
       "    .dataframe tbody tr th:only-of-type {\n",
       "        vertical-align: middle;\n",
       "    }\n",
       "\n",
       "    .dataframe tbody tr th {\n",
       "        vertical-align: top;\n",
       "    }\n",
       "\n",
       "    .dataframe thead th {\n",
       "        text-align: right;\n",
       "    }\n",
       "</style>\n",
       "<table border=\"1\" class=\"dataframe\">\n",
       "  <thead>\n",
       "    <tr style=\"text-align: right;\">\n",
       "      <th></th>\n",
       "      <th>Latitude</th>\n",
       "      <th>Longitude</th>\n",
       "      <th>Name</th>\n",
       "    </tr>\n",
       "  </thead>\n",
       "  <tbody>\n",
       "    <tr>\n",
       "      <th>7</th>\n",
       "      <td>40.856712</td>\n",
       "      <td>-74.070340</td>\n",
       "      <td>Starbucks</td>\n",
       "    </tr>\n",
       "    <tr>\n",
       "      <th>14</th>\n",
       "      <td>40.878809</td>\n",
       "      <td>-74.143419</td>\n",
       "      <td>Nefista Vegan Kofteh / Çiğ Köfte</td>\n",
       "    </tr>\n",
       "    <tr>\n",
       "      <th>2</th>\n",
       "      <td>40.853135</td>\n",
       "      <td>-74.133088</td>\n",
       "      <td>Collegiate School</td>\n",
       "    </tr>\n",
       "    <tr>\n",
       "      <th>1</th>\n",
       "      <td>40.727719</td>\n",
       "      <td>-73.950821</td>\n",
       "      <td>Refinery29</td>\n",
       "    </tr>\n",
       "    <tr>\n",
       "      <th>4</th>\n",
       "      <td>40.850101</td>\n",
       "      <td>-74.060799</td>\n",
       "      <td>Teterboro Airport</td>\n",
       "    </tr>\n",
       "    <tr>\n",
       "      <th>274</th>\n",
       "      <td>40.829813</td>\n",
       "      <td>-74.320006</td>\n",
       "      <td>Expand Networks</td>\n",
       "    </tr>\n",
       "  </tbody>\n",
       "</table>\n",
       "</div>"
      ],
      "text/plain": [
       "      Latitude  Longitude                              Name\n",
       "7    40.856712 -74.070340                         Starbucks\n",
       "14   40.878809 -74.143419  Nefista Vegan Kofteh / Çiğ Köfte\n",
       "2    40.853135 -74.133088                 Collegiate School\n",
       "1    40.727719 -73.950821                        Refinery29\n",
       "4    40.850101 -74.060799                 Teterboro Airport\n",
       "274  40.829813 -74.320006                   Expand Networks"
      ]
     },
     "execution_count": 262,
     "metadata": {},
     "output_type": "execute_result"
    }
   ],
   "source": [
    "df_FINAL"
   ]
  },
  {
   "cell_type": "code",
   "execution_count": 263,
   "metadata": {},
   "outputs": [
    {
     "name": "stdout",
     "output_type": "stream",
     "text": [
      "40.83271497848333 -74.11307877416668\n"
     ]
    },
    {
     "data": {
      "text/html": [
       "<div>\n",
       "<style scoped>\n",
       "    .dataframe tbody tr th:only-of-type {\n",
       "        vertical-align: middle;\n",
       "    }\n",
       "\n",
       "    .dataframe tbody tr th {\n",
       "        vertical-align: top;\n",
       "    }\n",
       "\n",
       "    .dataframe thead th {\n",
       "        text-align: right;\n",
       "    }\n",
       "</style>\n",
       "<table border=\"1\" class=\"dataframe\">\n",
       "  <thead>\n",
       "    <tr style=\"text-align: right;\">\n",
       "      <th></th>\n",
       "      <th>Latitude</th>\n",
       "      <th>Longitude</th>\n",
       "      <th>Name</th>\n",
       "    </tr>\n",
       "  </thead>\n",
       "  <tbody>\n",
       "    <tr>\n",
       "      <th>7</th>\n",
       "      <td>40.856712</td>\n",
       "      <td>-74.070340</td>\n",
       "      <td>Starbucks</td>\n",
       "    </tr>\n",
       "    <tr>\n",
       "      <th>14</th>\n",
       "      <td>40.878809</td>\n",
       "      <td>-74.143419</td>\n",
       "      <td>Nefista Vegan Kofteh / Çiğ Köfte</td>\n",
       "    </tr>\n",
       "    <tr>\n",
       "      <th>2</th>\n",
       "      <td>40.853135</td>\n",
       "      <td>-74.133088</td>\n",
       "      <td>Collegiate School</td>\n",
       "    </tr>\n",
       "    <tr>\n",
       "      <th>1</th>\n",
       "      <td>40.727719</td>\n",
       "      <td>-73.950821</td>\n",
       "      <td>Refinery29</td>\n",
       "    </tr>\n",
       "    <tr>\n",
       "      <th>4</th>\n",
       "      <td>40.850101</td>\n",
       "      <td>-74.060799</td>\n",
       "      <td>Teterboro Airport</td>\n",
       "    </tr>\n",
       "    <tr>\n",
       "      <th>274</th>\n",
       "      <td>40.829813</td>\n",
       "      <td>-74.320006</td>\n",
       "      <td>Expand Networks</td>\n",
       "    </tr>\n",
       "    <tr>\n",
       "      <th>0</th>\n",
       "      <td>40.832715</td>\n",
       "      <td>-74.113079</td>\n",
       "      <td>MI EMPRESA</td>\n",
       "    </tr>\n",
       "  </tbody>\n",
       "</table>\n",
       "</div>"
      ],
      "text/plain": [
       "      Latitude  Longitude                              Name\n",
       "7    40.856712 -74.070340                         Starbucks\n",
       "14   40.878809 -74.143419  Nefista Vegan Kofteh / Çiğ Köfte\n",
       "2    40.853135 -74.133088                 Collegiate School\n",
       "1    40.727719 -73.950821                        Refinery29\n",
       "4    40.850101 -74.060799                 Teterboro Airport\n",
       "274  40.829813 -74.320006                   Expand Networks\n",
       "0    40.832715 -74.113079                        MI EMPRESA"
      ]
     },
     "execution_count": 263,
     "metadata": {},
     "output_type": "execute_result"
    }
   ],
   "source": [
    "lstlat=list(df_FINAL[\"Latitude\"].values)\n",
    "\n",
    "        \n",
    "latMi=df_FINAL[\"Latitude\"].mean()\n",
    "lonMi=df_FINAL[\"Longitude\"].mean()\n",
    "nombre=\"MI EMPRESA\"\n",
    "print(latMi,lonMi)\n",
    "d_miE={\n",
    "    \"Latitude\": [latMi],\n",
    "    \"Longitude\":[lonMi],\n",
    "    \"Name\": [nombre]\n",
    "    \n",
    "}\n",
    "df_miEmp=pd.DataFrame(d_miE)\n",
    "df_Fin=pd.concat([df_FINAL,df_miEmp],axis=0)\n",
    "df_Fin"
   ]
  },
  {
   "cell_type": "code",
   "execution_count": 264,
   "metadata": {},
   "outputs": [],
   "source": [
    "df_Fin.to_json(\"MiEmpresa.json\", default_handler=str,orient=\"records\")"
   ]
  },
  {
   "cell_type": "code",
   "execution_count": 265,
   "metadata": {},
   "outputs": [
    {
     "name": "stdout",
     "output_type": "stream",
     "text": [
      "40.860773869999996 -74.09123044999998\n"
     ]
    }
   ],
   "source": [
    "lstlat=list(df_FINAL[\"Latitude\"].values)\n",
    "lstlon=list(df_FINAL[\"Longitude\"].values)\n",
    "lstname=list(df_FINAL[\"Name\"].values)\n",
    "latsum=0.0\n",
    "lonsum=0.0\n",
    "for i in range(len(lstname)):\n",
    "    if \"Starbucks\" in lstname[i]:\n",
    "        latsum+=(lstlat[i]*0.7)\n",
    "        lonsum+=(lstlon[i]*0.7)\n",
    "        \n",
    "    if \"Vegan\" in lstname[i]:\n",
    "        latsum+=lstlat[i]*0.2\n",
    "        lonsum+=lstlon[i]*0.2\n",
    "        \n",
    "    if \"School\" in lstname[i]:\n",
    "        latsum+=lstlat[i]*0.1\n",
    "        lonsum+=lstlon[i]*0.1\n",
    "\n",
    "        \n",
    "print(latsum,lonsum)"
   ]
  },
  {
   "cell_type": "code",
   "execution_count": 266,
   "metadata": {},
   "outputs": [
    {
     "data": {
      "text/html": [
       "<div>\n",
       "<style scoped>\n",
       "    .dataframe tbody tr th:only-of-type {\n",
       "        vertical-align: middle;\n",
       "    }\n",
       "\n",
       "    .dataframe tbody tr th {\n",
       "        vertical-align: top;\n",
       "    }\n",
       "\n",
       "    .dataframe thead th {\n",
       "        text-align: right;\n",
       "    }\n",
       "</style>\n",
       "<table border=\"1\" class=\"dataframe\">\n",
       "  <thead>\n",
       "    <tr style=\"text-align: right;\">\n",
       "      <th></th>\n",
       "      <th>Latitude</th>\n",
       "      <th>Longitude</th>\n",
       "      <th>Name</th>\n",
       "    </tr>\n",
       "  </thead>\n",
       "  <tbody>\n",
       "    <tr>\n",
       "      <th>7</th>\n",
       "      <td>40.856712</td>\n",
       "      <td>-74.070340</td>\n",
       "      <td>Starbucks</td>\n",
       "    </tr>\n",
       "    <tr>\n",
       "      <th>14</th>\n",
       "      <td>40.878809</td>\n",
       "      <td>-74.143419</td>\n",
       "      <td>Nefista Vegan Kofteh / Çiğ Köfte</td>\n",
       "    </tr>\n",
       "    <tr>\n",
       "      <th>2</th>\n",
       "      <td>40.853135</td>\n",
       "      <td>-74.133088</td>\n",
       "      <td>Collegiate School</td>\n",
       "    </tr>\n",
       "    <tr>\n",
       "      <th>1</th>\n",
       "      <td>40.727719</td>\n",
       "      <td>-73.950821</td>\n",
       "      <td>Refinery29</td>\n",
       "    </tr>\n",
       "    <tr>\n",
       "      <th>4</th>\n",
       "      <td>40.850101</td>\n",
       "      <td>-74.060799</td>\n",
       "      <td>Teterboro Airport</td>\n",
       "    </tr>\n",
       "    <tr>\n",
       "      <th>274</th>\n",
       "      <td>40.829813</td>\n",
       "      <td>-74.320006</td>\n",
       "      <td>Expand Networks</td>\n",
       "    </tr>\n",
       "    <tr>\n",
       "      <th>0</th>\n",
       "      <td>40.860774</td>\n",
       "      <td>-74.091230</td>\n",
       "      <td>MI EMPRESA</td>\n",
       "    </tr>\n",
       "  </tbody>\n",
       "</table>\n",
       "</div>"
      ],
      "text/plain": [
       "      Latitude  Longitude                              Name\n",
       "7    40.856712 -74.070340                         Starbucks\n",
       "14   40.878809 -74.143419  Nefista Vegan Kofteh / Çiğ Köfte\n",
       "2    40.853135 -74.133088                 Collegiate School\n",
       "1    40.727719 -73.950821                        Refinery29\n",
       "4    40.850101 -74.060799                 Teterboro Airport\n",
       "274  40.829813 -74.320006                   Expand Networks\n",
       "0    40.860774 -74.091230                        MI EMPRESA"
      ]
     },
     "execution_count": 266,
     "metadata": {},
     "output_type": "execute_result"
    }
   ],
   "source": [
    "\n",
    "nombre=\"MI EMPRESA\"\n",
    "\n",
    "d_miE2={\n",
    "    \"Latitude\": [latsum],\n",
    "    \"Longitude\":[lonsum],\n",
    "    \"Name\": [nombre]\n",
    "    \n",
    "}\n",
    "df_miEmp2=pd.DataFrame(d_miE2)\n",
    "df_Fin2=pd.concat([df_FINAL,df_miEmp2],axis=0)\n",
    "df_Fin2"
   ]
  },
  {
   "cell_type": "code",
   "execution_count": 267,
   "metadata": {},
   "outputs": [],
   "source": [
    "df_Fin2.to_json(\"MiEmpresa2.json\", default_handler=str,orient=\"records\")"
   ]
  },
  {
   "cell_type": "code",
   "execution_count": 268,
   "metadata": {},
   "outputs": [
    {
     "name": "stdout",
     "output_type": "stream",
     "text": [
      "-74.09123044999998\n"
     ]
    },
    {
     "data": {
      "text/plain": [
       "40.860773869999996"
      ]
     },
     "execution_count": 268,
     "metadata": {},
     "output_type": "execute_result"
    }
   ],
   "source": [
    "\n",
    "#def haversine(lat1, lon1, lat2, lon2):\n",
    "miE_lon=df_Fin2[df_Fin2[\"Name\"]==\"MI EMPRESA\"][\"Longitude\"]\n",
    "miE_lon=list(miE_lon.values)[0]\n",
    "print(miE_lon)\n",
    "\n",
    "miE_lat=df_Fin2[df_Fin2[\"Name\"]==\"MI EMPRESA\"][\"Latitude\"]\n",
    "miE_lat=list(miE_lat.values)[0]\n",
    "miE_lat"
   ]
  },
  {
   "cell_type": "code",
   "execution_count": 269,
   "metadata": {},
   "outputs": [
    {
     "data": {
      "text/html": [
       "<div>\n",
       "<style scoped>\n",
       "    .dataframe tbody tr th:only-of-type {\n",
       "        vertical-align: middle;\n",
       "    }\n",
       "\n",
       "    .dataframe tbody tr th {\n",
       "        vertical-align: top;\n",
       "    }\n",
       "\n",
       "    .dataframe thead th {\n",
       "        text-align: right;\n",
       "    }\n",
       "</style>\n",
       "<table border=\"1\" class=\"dataframe\">\n",
       "  <thead>\n",
       "    <tr style=\"text-align: right;\">\n",
       "      <th></th>\n",
       "      <th>Distancia en KM</th>\n",
       "      <th>Latitude</th>\n",
       "      <th>Longitude</th>\n",
       "      <th>Name</th>\n",
       "    </tr>\n",
       "  </thead>\n",
       "  <tbody>\n",
       "    <tr>\n",
       "      <th>7</th>\n",
       "      <td>1.814534</td>\n",
       "      <td>40.856712</td>\n",
       "      <td>-74.070340</td>\n",
       "      <td>Starbucks</td>\n",
       "    </tr>\n",
       "    <tr>\n",
       "      <th>14</th>\n",
       "      <td>4.826206</td>\n",
       "      <td>40.878809</td>\n",
       "      <td>-74.143419</td>\n",
       "      <td>Nefista Vegan Kofteh / Çiğ Köfte</td>\n",
       "    </tr>\n",
       "    <tr>\n",
       "      <th>2</th>\n",
       "      <td>3.622315</td>\n",
       "      <td>40.853135</td>\n",
       "      <td>-74.133088</td>\n",
       "      <td>Collegiate School</td>\n",
       "    </tr>\n",
       "    <tr>\n",
       "      <th>1</th>\n",
       "      <td>18.942115</td>\n",
       "      <td>40.727719</td>\n",
       "      <td>-73.950821</td>\n",
       "      <td>Refinery29</td>\n",
       "    </tr>\n",
       "    <tr>\n",
       "      <th>4</th>\n",
       "      <td>2.821958</td>\n",
       "      <td>40.850101</td>\n",
       "      <td>-74.060799</td>\n",
       "      <td>Teterboro Airport</td>\n",
       "    </tr>\n",
       "    <tr>\n",
       "      <th>274</th>\n",
       "      <td>19.554834</td>\n",
       "      <td>40.829813</td>\n",
       "      <td>-74.320006</td>\n",
       "      <td>Expand Networks</td>\n",
       "    </tr>\n",
       "    <tr>\n",
       "      <th>0</th>\n",
       "      <td>0.000000</td>\n",
       "      <td>40.860774</td>\n",
       "      <td>-74.091230</td>\n",
       "      <td>MI EMPRESA</td>\n",
       "    </tr>\n",
       "  </tbody>\n",
       "</table>\n",
       "</div>"
      ],
      "text/plain": [
       "     Distancia en KM   Latitude  Longitude                              Name\n",
       "7           1.814534  40.856712 -74.070340                         Starbucks\n",
       "14          4.826206  40.878809 -74.143419  Nefista Vegan Kofteh / Çiğ Köfte\n",
       "2           3.622315  40.853135 -74.133088                 Collegiate School\n",
       "1          18.942115  40.727719 -73.950821                        Refinery29\n",
       "4           2.821958  40.850101 -74.060799                 Teterboro Airport\n",
       "274        19.554834  40.829813 -74.320006                   Expand Networks\n",
       "0           0.000000  40.860774 -74.091230                        MI EMPRESA"
      ]
     },
     "execution_count": 269,
     "metadata": {},
     "output_type": "execute_result"
    }
   ],
   "source": [
    "def dist(x):\n",
    "    dist=haversine(x[\"Latitude\"],x[\"Longitude\"],miE_lat,miE_lon)\n",
    "    return{\n",
    "        \"Name\": x[\"Name\"],\n",
    "        \"Latitude\": x[\"Latitude\"],\n",
    "        \"Longitude\":x[\"Longitude\"],\n",
    "        \"Distancia en KM\": dist\n",
    "    }\n",
    "df_Fin2.apply(dist,result_type=\"expand\",axis=1)"
   ]
  },
  {
   "cell_type": "code",
   "execution_count": 270,
   "metadata": {},
   "outputs": [],
   "source": [
    "import matplotlib.pyplot as plt\n",
    "import matplotlib.cm\n",
    "import pandas as pd\n",
    "import numpy as np\n",
    "import seaborn\n",
    "\n",
    "from matplotlib.colors import Normalize\n",
    "import matplotlib.colors as colors\n",
    "from numpy import array\n",
    "from numpy import max\n",
    "\n",
    "import mpl_toolkits\n",
    "mpl_toolkits.__path__.append('/usr/lib/python2.7/dist-packages/mpl_toolkits/')\n",
    "from mpl_toolkits.basemap import Basemap\n",
    "from matplotlib.patches import Polygon\n",
    "from matplotlib.collections import PatchCollection"
   ]
  },
  {
   "cell_type": "code",
   "execution_count": 271,
   "metadata": {},
   "outputs": [
    {
     "data": {
      "image/png": "[encoded data removed]",
      "text/plain": [
       "<Figure size 432x288 with 1 Axes>"
      ]
     },
     "metadata": {},
     "output_type": "display_data"
    },
    {
     "ename": "AttributeError",
     "evalue": "'AxesSubplot' object has no attribute 'get_axis_bgcolor'",
     "output_type": "error",
     "traceback": [
      "\u001b[0;31m---------------------------------------------------------------------------\u001b[0m",
      "\u001b[0;31mAttributeError\u001b[0m                            Traceback (most recent call last)",
      "\u001b[0;32m<ipython-input-271-5bcfdd881a8a>\u001b[0m in \u001b[0;36m<module>\u001b[0;34m\u001b[0m\n\u001b[1;32m      7\u001b[0m \u001b[0mplt\u001b[0m\u001b[0;34m.\u001b[0m\u001b[0mshow\u001b[0m\u001b[0;34m(\u001b[0m\u001b[0;34m)\u001b[0m\u001b[0;34m\u001b[0m\u001b[0m\n\u001b[1;32m      8\u001b[0m \u001b[0;34m\u001b[0m\u001b[0m\n\u001b[0;32m----> 9\u001b[0;31m \u001b[0mfill_color\u001b[0m \u001b[0;34m=\u001b[0m \u001b[0max\u001b[0m\u001b[0;34m.\u001b[0m\u001b[0mget_axis_bgcolor\u001b[0m\u001b[0;34m(\u001b[0m\u001b[0;34m)\u001b[0m\u001b[0;34m\u001b[0m\u001b[0m\n\u001b[0m\u001b[1;32m     10\u001b[0m \u001b[0maxisbgc\u001b[0m \u001b[0;34m=\u001b[0m \u001b[0max\u001b[0m\u001b[0;34m.\u001b[0m\u001b[0mget_axis_bgcolor\u001b[0m\u001b[0;34m(\u001b[0m\u001b[0;34m)\u001b[0m\u001b[0;34m\u001b[0m\u001b[0m\n",
      "\u001b[0;31mAttributeError\u001b[0m: 'AxesSubplot' object has no attribute 'get_axis_bgcolor'"
     ]
    }
   ],
   "source": [
    "%matplotlib inline\n",
    "e_map=Basemap(projection='robin',resolution='l',area_thresh=1000.0,lat_0=0,lon_0=-130)\n",
    "e_map.drawcoastlines()\n",
    "eq_map.drawcountries()\n",
    "eq_map.fillcontinents(color = 'blue')\n",
    "eq_map.drawmapboundary()\n",
    "plt.show()\n",
    "\n",
    "fill_color = ax.get_axis_bgcolor()\n",
    "axisbgc = ax.get_axis_bgcolor()"
   ]
  },
  {
   "cell_type": "code",
   "execution_count": null,
   "metadata": {},
   "outputs": [],
   "source": [
    "figu, ax = plt.subplots(figsize=(20,10))\n",
    "eq_map = Basemap(projection='robin', resolution = 'l', area_thresh = 1000.0,\n",
    "              lat_0=0, lon_0=-130)\n",
    "eq_map.drawcoastlines()\n",
    "eq_map.drawcountries()\n",
    "eq_map.fillcontinents(color = 'gray')\n",
    "eq_map.drawmapboundary()\n",
    "eq_map.drawmeridians(np.arange(0, 360, 30))\n",
    "eq_map.drawparallels(np.arange(-90, 90, 30))\n",
    "\n",
    "lons=list(df_Fin2[\"Longitude\"].values)\n",
    "lats=list(df_Fin2[\"Latitude\"].values)\n",
    "x,y = eq_map(lons, lats)\n",
    "eq_map.plot(x, y, '^', markersize=6)\n",
    "\n",
    "\n",
    "plt.show()\n",
    "fill_color = ax.get_axis_bgcolor()\n",
    "axisbgc = ax.get_axis_bgcolor()\n",
    "b = ax.ishold()\n",
    "ax.hold(b)\n"
   ]
  },
  {
   "cell_type": "code",
   "execution_count": null,
   "metadata": {},
   "outputs": [],
   "source": [
    "BASE_URL=\"https://maps.googleapis.com/v1/snapToRoads?\"\n",
    "parameters=\"path=40.856712,-74.070340|40.860774,-74.091230\"\n",
    "parameters2=\"&interpolate=true\"\n",
    "key=\"&key=\"+ os.environ[\"KEY\"]\n",
    "\n",
    "res=requests.get(BASE_URL+parameters+parameters2+key)\n",
    "res=res.json()"
   ]
  },
  {
   "cell_type": "code",
   "execution_count": null,
   "metadata": {},
   "outputs": [],
   "source": [
    "res"
   ]
  },
  {
   "cell_type": "code",
   "execution_count": 272,
   "metadata": {},
   "outputs": [
    {
     "data": {
      "text/plain": [
       "<matplotlib.patches.Rectangle at 0x123ccb710>"
      ]
     },
     "execution_count": 272,
     "metadata": {},
     "output_type": "execute_result"
    },
    {
     "data": {
      "image/png": "[encoded data removed]",
      "text/plain": [
       "<Figure size 864x864 with 1 Axes>"
      ]
     },
     "metadata": {},
     "output_type": "display_data"
    }
   ],
   "source": [
    "import matplotlib.pyplot as plt\n",
    "from PIL import *\n",
    "fig = plt.figure(figsize=(12,12))\n",
    "\n",
    "ax = fig.add_axes([0.1,0.1,0.8,0.8])\n",
    "m = Basemap(projection='cyl', llcrnrlat=32, urcrnrlat=55,llcrnrlon=-90, urcrnrlon=-50, resolution='c', area_thresh=1000.)\n",
    "\n",
    "m.bluemarble()\n",
    "m.drawcoastlines(linewidth=0.5)\n",
    "m.drawcountries(linewidth=0.5)\n",
    "m.drawstates(linewidth=0.5)\n",
    "\n",
    "\n",
    "# --- Dibujamos paralelos y meridianos ---\n",
    "\n",
    "m.drawparallels(np.arange(30.,55.,5.),labels=[1,0,0,1])\n",
    "m.drawmeridians(np.arange(-90.,-50.,5.),labels=[1,0,0,1])\n",
    "m.drawmapboundary(fill_color='aqua')\n",
    "\n"
   ]
  },
  {
   "cell_type": "code",
   "execution_count": null,
   "metadata": {},
   "outputs": [],
   "source": []
  },
  {
   "cell_type": "code",
   "execution_count": null,
   "metadata": {},
   "outputs": [],
   "source": []
  },
  {
   "cell_type": "code",
   "execution_count": null,
   "metadata": {},
   "outputs": [],
   "source": []
  },
  {
   "cell_type": "code",
   "execution_count": null,
   "metadata": {},
   "outputs": [],
   "source": []
  },
  {
   "cell_type": "code",
   "execution_count": null,
   "metadata": {},
   "outputs": [],
   "source": []
  },
  {
   "cell_type": "code",
   "execution_count": null,
   "metadata": {},
   "outputs": [],
   "source": []
  },
  {
   "cell_type": "code",
   "execution_count": null,
   "metadata": {},
   "outputs": [],
   "source": []
  },
  {
   "cell_type": "code",
   "execution_count": null,
   "metadata": {},
   "outputs": [],
   "source": []
  },
  {
   "cell_type": "code",
   "execution_count": null,
   "metadata": {},
   "outputs": [],
   "source": []
  },
  {
   "cell_type": "code",
   "execution_count": null,
   "metadata": {},
   "outputs": [],
   "source": []
  },
  {
   "cell_type": "code",
   "execution_count": null,
   "metadata": {},
   "outputs": [],
   "source": []
  },
  {
   "cell_type": "code",
   "execution_count": null,
   "metadata": {},
   "outputs": [],
   "source": []
  },
  {
   "cell_type": "code",
   "execution_count": null,
   "metadata": {},
   "outputs": [],
   "source": []
  },
  {
   "cell_type": "code",
   "execution_count": null,
   "metadata": {},
   "outputs": [],
   "source": []
  },
  {
   "cell_type": "code",
   "execution_count": null,
   "metadata": {},
   "outputs": [],
   "source": []
  },
  {
   "cell_type": "code",
   "execution_count": null,
   "metadata": {},
   "outputs": [],
   "source": []
  }
 ],
 "metadata": {
  "kernelspec": {
   "display_name": "Python 3",
   "language": "python",
   "name": "python3"
  },
  "language_info": {
   "codemirror_mode": {
    "name": "ipython",
    "version": 3
   },
   "file_extension": ".py",
   "mimetype": "text/x-python",
   "name": "python",
   "nbconvert_exporter": "python",
   "pygments_lexer": "ipython3",
   "version": "3.6.5"
  }
 },
 "nbformat": 4,
 "nbformat_minor": 2
}
