{
 "cells": [
  {
   "cell_type": "code",
   "execution_count": 1,
   "metadata": {},
   "outputs": [],
   "source": [
    "from pymongo import MongoClient\n",
    "\n",
    "client = MongoClient('mongodb://localhost:27017/')\n",
    "db = client.companies"
   ]
  },
  {
   "cell_type": "code",
   "execution_count": 21,
   "metadata": {},
   "outputs": [
    {
     "data": {
      "text/html": [
       "<div>\n",
       "<style scoped>\n",
       "    .dataframe tbody tr th:only-of-type {\n",
       "        vertical-align: middle;\n",
       "    }\n",
       "\n",
       "    .dataframe tbody tr th {\n",
       "        vertical-align: top;\n",
       "    }\n",
       "\n",
       "    .dataframe thead th {\n",
       "        text-align: right;\n",
       "    }\n",
       "</style>\n",
       "<table border=\"1\" class=\"dataframe\">\n",
       "  <thead>\n",
       "    <tr style=\"text-align: right;\">\n",
       "      <th></th>\n",
       "      <th>_id</th>\n",
       "      <th>category_code</th>\n",
       "      <th>competitions</th>\n",
       "      <th>description</th>\n",
       "      <th>founded_year</th>\n",
       "      <th>name</th>\n",
       "      <th>offices</th>\n",
       "      <th>products</th>\n",
       "      <th>relationships</th>\n",
       "      <th>total_money_raised</th>\n",
       "    </tr>\n",
       "  </thead>\n",
       "  <tbody>\n",
       "    <tr>\n",
       "      <th>0</th>\n",
       "      <td>52cdef7c4bab8bd675297d8b</td>\n",
       "      <td>enterprise</td>\n",
       "      <td>[]</td>\n",
       "      <td>Server Management Software</td>\n",
       "      <td>1996.0</td>\n",
       "      <td>AdventNet</td>\n",
       "      <td>[{'description': 'Headquarters', 'address1': '...</td>\n",
       "      <td>[]</td>\n",
       "      <td>[{'is_past': True, 'title': 'CEO and Co-Founde...</td>\n",
       "      <td>$0</td>\n",
       "    </tr>\n",
       "    <tr>\n",
       "      <th>1</th>\n",
       "      <td>52cdef7c4bab8bd675297d8a</td>\n",
       "      <td>web</td>\n",
       "      <td>[{'competitor': {'name': 'Wikia', 'permalink':...</td>\n",
       "      <td>Technology Platform Company</td>\n",
       "      <td>2005.0</td>\n",
       "      <td>Wetpaint</td>\n",
       "      <td>[{'description': '', 'address1': '710 - 2nd Av...</td>\n",
       "      <td>[{'name': 'Wikison Wetpaint', 'permalink': 'we...</td>\n",
       "      <td>[{'is_past': False, 'title': 'Co-Founder and V...</td>\n",
       "      <td>$39.8M</td>\n",
       "    </tr>\n",
       "    <tr>\n",
       "      <th>2</th>\n",
       "      <td>52cdef7c4bab8bd675297d8c</td>\n",
       "      <td>software</td>\n",
       "      <td>[{'competitor': {'name': 'Empressr', 'permalin...</td>\n",
       "      <td>Online Business Apps Suite</td>\n",
       "      <td>2005.0</td>\n",
       "      <td>Zoho</td>\n",
       "      <td>[{'description': 'Headquarters', 'address1': '...</td>\n",
       "      <td>[{'name': 'Zoho Office Suite', 'permalink': 'z...</td>\n",
       "      <td>[{'is_past': False, 'title': 'CEO and Founder'...</td>\n",
       "      <td>$0</td>\n",
       "    </tr>\n",
       "    <tr>\n",
       "      <th>3</th>\n",
       "      <td>52cdef7c4bab8bd675297d8d</td>\n",
       "      <td>news</td>\n",
       "      <td>[{'competitor': {'name': 'Reddit', 'permalink'...</td>\n",
       "      <td>user driven social content website</td>\n",
       "      <td>2004.0</td>\n",
       "      <td>Digg</td>\n",
       "      <td>[{'description': None, 'address1': '135 Missis...</td>\n",
       "      <td>[{'name': 'Digg', 'permalink': 'digg'}]</td>\n",
       "      <td>[{'is_past': False, 'title': 'CEO', 'person': ...</td>\n",
       "      <td>$45M</td>\n",
       "    </tr>\n",
       "    <tr>\n",
       "      <th>4</th>\n",
       "      <td>52cdef7c4bab8bd675297d8f</td>\n",
       "      <td>network_hosting</td>\n",
       "      <td>[{'competitor': {'name': 'Dropbox', 'permalink...</td>\n",
       "      <td>None</td>\n",
       "      <td>2005.0</td>\n",
       "      <td>Omnidrive</td>\n",
       "      <td>[{'description': '', 'address1': 'Suite 200', ...</td>\n",
       "      <td>[{'name': 'Omnidrive', 'permalink': 'omnidrive'}]</td>\n",
       "      <td>[{'is_past': True, 'title': 'Co-founder', 'per...</td>\n",
       "      <td>$800k</td>\n",
       "    </tr>\n",
       "  </tbody>\n",
       "</table>\n",
       "</div>"
      ],
      "text/plain": [
       "                        _id    category_code  \\\n",
       "0  52cdef7c4bab8bd675297d8b       enterprise   \n",
       "1  52cdef7c4bab8bd675297d8a              web   \n",
       "2  52cdef7c4bab8bd675297d8c         software   \n",
       "3  52cdef7c4bab8bd675297d8d             news   \n",
       "4  52cdef7c4bab8bd675297d8f  network_hosting   \n",
       "\n",
       "                                        competitions  \\\n",
       "0                                                 []   \n",
       "1  [{'competitor': {'name': 'Wikia', 'permalink':...   \n",
       "2  [{'competitor': {'name': 'Empressr', 'permalin...   \n",
       "3  [{'competitor': {'name': 'Reddit', 'permalink'...   \n",
       "4  [{'competitor': {'name': 'Dropbox', 'permalink...   \n",
       "\n",
       "                          description  founded_year       name  \\\n",
       "0          Server Management Software        1996.0  AdventNet   \n",
       "1         Technology Platform Company        2005.0   Wetpaint   \n",
       "2          Online Business Apps Suite        2005.0       Zoho   \n",
       "3  user driven social content website        2004.0       Digg   \n",
       "4                                None        2005.0  Omnidrive   \n",
       "\n",
       "                                             offices  \\\n",
       "0  [{'description': 'Headquarters', 'address1': '...   \n",
       "1  [{'description': '', 'address1': '710 - 2nd Av...   \n",
       "2  [{'description': 'Headquarters', 'address1': '...   \n",
       "3  [{'description': None, 'address1': '135 Missis...   \n",
       "4  [{'description': '', 'address1': 'Suite 200', ...   \n",
       "\n",
       "                                            products  \\\n",
       "0                                                 []   \n",
       "1  [{'name': 'Wikison Wetpaint', 'permalink': 'we...   \n",
       "2  [{'name': 'Zoho Office Suite', 'permalink': 'z...   \n",
       "3            [{'name': 'Digg', 'permalink': 'digg'}]   \n",
       "4  [{'name': 'Omnidrive', 'permalink': 'omnidrive'}]   \n",
       "\n",
       "                                       relationships total_money_raised  \n",
       "0  [{'is_past': True, 'title': 'CEO and Co-Founde...                 $0  \n",
       "1  [{'is_past': False, 'title': 'Co-Founder and V...             $39.8M  \n",
       "2  [{'is_past': False, 'title': 'CEO and Founder'...                 $0  \n",
       "3  [{'is_past': False, 'title': 'CEO', 'person': ...               $45M  \n",
       "4  [{'is_past': True, 'title': 'Co-founder', 'per...              $800k  "
      ]
     },
     "execution_count": 21,
     "metadata": {},
     "output_type": "execute_result"
    }
   ],
   "source": [
    "import pandas as pd\n",
    "df = pd.DataFrame(db.comp.find({\n",
    "    \"offices\":{\n",
    "        \"$not\":{\n",
    "            \"$size\":0\n",
    "        }\n",
    "    }},{\"name\":1,\n",
    "       \"offices\":1,\n",
    "       \"category_code\":1,\n",
    "       \"description\":1,\n",
    "       \"products\":1,\n",
    "       \"total_money_raised\":1,\n",
    "       \"relationships\":1,\n",
    "       \"competitions\":1,\n",
    "       \"founded_year\":1\n",
    "      }\n",
    "))\n",
    "df.head()"
   ]
  },
  {
   "cell_type": "code",
   "execution_count": 20,
   "metadata": {},
   "outputs": [
    {
     "data": {
      "text/plain": [
       "Index(['_id', 'category_code', 'competitions', 'description', 'founded_year',\n",
       "       'name', 'products', 'relationships', 'total_money_raised'],\n",
       "      dtype='object')"
      ]
     },
     "execution_count": 20,
     "metadata": {},
     "output_type": "execute_result"
    }
   ],
   "source": [
    "\n",
    "df.columns"
   ]
  },
  {
   "cell_type": "code",
   "execution_count": 23,
   "metadata": {},
   "outputs": [
    {
     "name": "stdout",
     "output_type": "stream",
     "text": [
      "['Wikison Wetpaint']\n",
      "['Wikison Wetpaint', 'Wetpaint Social Distribution System']\n",
      "['Zoho Office Suite']\n",
      "['Zoho Office Suite', 'Zoho CRM']\n",
      "['Zoho Office Suite', 'Zoho CRM', 'Zoho Assist']\n",
      "['Digg']\n",
      "['Omnidrive']\n"
     ]
    },
    {
     "data": {
      "text/plain": [
       "0    None\n",
       "1    None\n",
       "2    None\n",
       "3    None\n",
       "4    None\n",
       "dtype: object"
      ]
     },
     "execution_count": 23,
     "metadata": {},
     "output_type": "execute_result"
    }
   ],
   "source": [
    "df_copia=df[[\"offices\",\"products\",\"relationships\",\"competitions\"]].copy()\n",
    "def cleaning(x):\n",
    "    names=[]\n",
    "    for e in x[\"products\"]:\n",
    "        names.append(e[\"name\"])\n",
    "        print(names)\n",
    "\n",
    "df_copia.head().apply(cleaning,axis=1,result_type=\"expand\")"
   ]
  },
  {
   "cell_type": "code",
   "execution_count": null,
   "metadata": {},
   "outputs": [],
   "source": []
  }
 ],
 "metadata": {
  "kernelspec": {
   "display_name": "Python 3",
   "language": "python",
   "name": "python3"
  },
  "language_info": {
   "codemirror_mode": {
    "name": "ipython",
    "version": 3
   },
   "file_extension": ".py",
   "mimetype": "text/x-python",
   "name": "python",
   "nbconvert_exporter": "python",
   "pygments_lexer": "ipython3",
   "version": "3.6.5"
  }
 },
 "nbformat": 4,
 "nbformat_minor": 2
}
